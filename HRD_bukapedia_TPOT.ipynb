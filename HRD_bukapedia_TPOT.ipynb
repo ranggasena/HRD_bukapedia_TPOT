{
 "cells": [
  {
   "cell_type": "code",
   "execution_count": 7,
   "id": "73a71cbb",
   "metadata": {},
   "outputs": [],
   "source": [
    "import pandas as pd\n",
    "import numpy as np\n",
    "import seaborn as sns\n",
    "import matplotlib.pyplot as plt\n",
    "from IPython import display\n",
    "\n",
    "import warnings\n",
    "warnings.filterwarnings('ignore')\n",
    "\n",
    "from matplotlib import rcParams\n",
    "from matplotlib.pyplot import figure\n",
    "sns.set(style=\"darkgrid\")\n",
    "\n",
    "rcParams['figure.figsize'] = 12,6\n",
    "rcParams['lines.linewidth'] = 3\n",
    "rcParams['xtick.labelsize'] = 'x-large'\n",
    "rcParams['ytick.labelsize'] = 'x-large'"
   ]
  },
  {
   "cell_type": "code",
   "execution_count": 8,
   "id": "ba4cef86",
   "metadata": {},
   "outputs": [],
   "source": [
    "data_train = pd.read_csv('train.csv')\n",
    "data_predict = pd.read_csv('predict2022.csv')"
   ]
  },
  {
   "cell_type": "code",
   "execution_count": 9,
   "id": "ab1069a0",
   "metadata": {},
   "outputs": [],
   "source": [
    "dft = data_train.copy()\n",
    "dfp = data_predict.copy()"
   ]
  },
  {
   "cell_type": "code",
   "execution_count": 10,
   "id": "408ff1be",
   "metadata": {},
   "outputs": [],
   "source": [
    "dfp_ori = data_predict.copy()"
   ]
  },
  {
   "cell_type": "markdown",
   "id": "981514b0",
   "metadata": {},
   "source": [
    "# EDA "
   ]
  },
  {
   "cell_type": "markdown",
   "id": "d21e7457",
   "metadata": {},
   "source": [
    "## Data Train 2021"
   ]
  },
  {
   "cell_type": "code",
   "execution_count": 11,
   "id": "c13ff773",
   "metadata": {},
   "outputs": [
    {
     "data": {
      "text/html": [
       "<div>\n",
       "<style scoped>\n",
       "    .dataframe tbody tr th:only-of-type {\n",
       "        vertical-align: middle;\n",
       "    }\n",
       "\n",
       "    .dataframe tbody tr th {\n",
       "        vertical-align: top;\n",
       "    }\n",
       "\n",
       "    .dataframe thead th {\n",
       "        text-align: right;\n",
       "    }\n",
       "</style>\n",
       "<table border=\"1\" class=\"dataframe\">\n",
       "  <thead>\n",
       "    <tr style=\"text-align: right;\">\n",
       "      <th></th>\n",
       "      <th>employee_id</th>\n",
       "      <th>department</th>\n",
       "      <th>region</th>\n",
       "      <th>education</th>\n",
       "      <th>gender</th>\n",
       "      <th>recruitment_channel</th>\n",
       "      <th>no_of_trainings</th>\n",
       "      <th>age</th>\n",
       "      <th>previous_year_rating</th>\n",
       "      <th>length_of_service</th>\n",
       "      <th>awards_won?</th>\n",
       "      <th>avg_training_score</th>\n",
       "      <th>is_promoted</th>\n",
       "    </tr>\n",
       "  </thead>\n",
       "  <tbody>\n",
       "    <tr>\n",
       "      <th>16622</th>\n",
       "      <td>35574</td>\n",
       "      <td>Analytics</td>\n",
       "      <td>region_7</td>\n",
       "      <td>NaN</td>\n",
       "      <td>m</td>\n",
       "      <td>other</td>\n",
       "      <td>1</td>\n",
       "      <td>26</td>\n",
       "      <td>5.0</td>\n",
       "      <td>2</td>\n",
       "      <td>0</td>\n",
       "      <td>85</td>\n",
       "      <td>0</td>\n",
       "    </tr>\n",
       "    <tr>\n",
       "      <th>12345</th>\n",
       "      <td>48733</td>\n",
       "      <td>Procurement</td>\n",
       "      <td>region_2</td>\n",
       "      <td>Bachelor's</td>\n",
       "      <td>m</td>\n",
       "      <td>referred</td>\n",
       "      <td>1</td>\n",
       "      <td>36</td>\n",
       "      <td>3.0</td>\n",
       "      <td>7</td>\n",
       "      <td>0</td>\n",
       "      <td>66</td>\n",
       "      <td>0</td>\n",
       "    </tr>\n",
       "    <tr>\n",
       "      <th>34988</th>\n",
       "      <td>15883</td>\n",
       "      <td>HR</td>\n",
       "      <td>region_29</td>\n",
       "      <td>Bachelor's</td>\n",
       "      <td>m</td>\n",
       "      <td>other</td>\n",
       "      <td>1</td>\n",
       "      <td>28</td>\n",
       "      <td>NaN</td>\n",
       "      <td>1</td>\n",
       "      <td>1</td>\n",
       "      <td>53</td>\n",
       "      <td>1</td>\n",
       "    </tr>\n",
       "    <tr>\n",
       "      <th>21762</th>\n",
       "      <td>54093</td>\n",
       "      <td>Operations</td>\n",
       "      <td>region_2</td>\n",
       "      <td>Master's &amp; above</td>\n",
       "      <td>m</td>\n",
       "      <td>other</td>\n",
       "      <td>1</td>\n",
       "      <td>31</td>\n",
       "      <td>5.0</td>\n",
       "      <td>5</td>\n",
       "      <td>0</td>\n",
       "      <td>64</td>\n",
       "      <td>0</td>\n",
       "    </tr>\n",
       "    <tr>\n",
       "      <th>19707</th>\n",
       "      <td>72395</td>\n",
       "      <td>Sales &amp; Marketing</td>\n",
       "      <td>region_29</td>\n",
       "      <td>Bachelor's</td>\n",
       "      <td>m</td>\n",
       "      <td>other</td>\n",
       "      <td>1</td>\n",
       "      <td>27</td>\n",
       "      <td>4.0</td>\n",
       "      <td>1</td>\n",
       "      <td>0</td>\n",
       "      <td>44</td>\n",
       "      <td>0</td>\n",
       "    </tr>\n",
       "  </tbody>\n",
       "</table>\n",
       "</div>"
      ],
      "text/plain": [
       "       employee_id         department     region         education gender  \\\n",
       "16622        35574          Analytics   region_7               NaN      m   \n",
       "12345        48733        Procurement   region_2        Bachelor's      m   \n",
       "34988        15883                 HR  region_29        Bachelor's      m   \n",
       "21762        54093         Operations   region_2  Master's & above      m   \n",
       "19707        72395  Sales & Marketing  region_29        Bachelor's      m   \n",
       "\n",
       "      recruitment_channel  no_of_trainings  age  previous_year_rating  \\\n",
       "16622               other                1   26                   5.0   \n",
       "12345            referred                1   36                   3.0   \n",
       "34988               other                1   28                   NaN   \n",
       "21762               other                1   31                   5.0   \n",
       "19707               other                1   27                   4.0   \n",
       "\n",
       "       length_of_service  awards_won?  avg_training_score  is_promoted  \n",
       "16622                  2            0                  85            0  \n",
       "12345                  7            0                  66            0  \n",
       "34988                  1            1                  53            1  \n",
       "21762                  5            0                  64            0  \n",
       "19707                  1            0                  44            0  "
      ]
     },
     "execution_count": 11,
     "metadata": {},
     "output_type": "execute_result"
    }
   ],
   "source": [
    "dft.sample(5)"
   ]
  },
  {
   "cell_type": "code",
   "execution_count": 12,
   "id": "53f5d3f7",
   "metadata": {
    "scrolled": true
   },
   "outputs": [
    {
     "name": "stdout",
     "output_type": "stream",
     "text": [
      "<class 'pandas.core.frame.DataFrame'>\n",
      "RangeIndex: 40100 entries, 0 to 40099\n",
      "Data columns (total 13 columns):\n",
      " #   Column                Non-Null Count  Dtype  \n",
      "---  ------                --------------  -----  \n",
      " 0   employee_id           40100 non-null  int64  \n",
      " 1   department            40100 non-null  object \n",
      " 2   region                40100 non-null  object \n",
      " 3   education             38332 non-null  object \n",
      " 4   gender                40100 non-null  object \n",
      " 5   recruitment_channel   40100 non-null  object \n",
      " 6   no_of_trainings       40100 non-null  int64  \n",
      " 7   age                   40100 non-null  int64  \n",
      " 8   previous_year_rating  37076 non-null  float64\n",
      " 9   length_of_service     40100 non-null  int64  \n",
      " 10  awards_won?           40100 non-null  int64  \n",
      " 11  avg_training_score    40100 non-null  int64  \n",
      " 12  is_promoted           40100 non-null  int64  \n",
      "dtypes: float64(1), int64(7), object(5)\n",
      "memory usage: 4.0+ MB\n"
     ]
    }
   ],
   "source": [
    "dft.info()"
   ]
  },
  {
   "cell_type": "code",
   "execution_count": 13,
   "id": "078a31d5",
   "metadata": {},
   "outputs": [
    {
     "data": {
      "text/plain": [
       "(array([], dtype=int64), array([], dtype=int64))"
      ]
     },
     "execution_count": 13,
     "metadata": {},
     "output_type": "execute_result"
    }
   ],
   "source": [
    "np.where(dft.applymap(lambda x: x == ''))"
   ]
  },
  {
   "cell_type": "code",
   "execution_count": 14,
   "id": "4b2a2c52",
   "metadata": {},
   "outputs": [],
   "source": [
    "dft.rename(columns={'awards_won?':'awards_won'}, inplace=True)"
   ]
  },
  {
   "cell_type": "code",
   "execution_count": 15,
   "id": "a928c29e",
   "metadata": {},
   "outputs": [
    {
     "data": {
      "text/plain": [
       "40100"
      ]
     },
     "execution_count": 15,
     "metadata": {},
     "output_type": "execute_result"
    }
   ],
   "source": [
    "dft['employee_id'].nunique()"
   ]
  },
  {
   "cell_type": "code",
   "execution_count": 16,
   "id": "014e9bd5",
   "metadata": {},
   "outputs": [
    {
     "data": {
      "text/plain": [
       "0"
      ]
     },
     "execution_count": 16,
     "metadata": {},
     "output_type": "execute_result"
    }
   ],
   "source": [
    "dft.duplicated().sum()"
   ]
  },
  {
   "cell_type": "code",
   "execution_count": 17,
   "id": "74f26ef3",
   "metadata": {
    "scrolled": true
   },
   "outputs": [
    {
     "data": {
      "text/plain": [
       "0"
      ]
     },
     "execution_count": 17,
     "metadata": {},
     "output_type": "execute_result"
    }
   ],
   "source": [
    "dft.duplicated(subset=['employee_id','gender']).sum()"
   ]
  },
  {
   "cell_type": "markdown",
   "id": "57206f1d",
   "metadata": {},
   "source": [
    "**Conc** : All employee ID is unique"
   ]
  },
  {
   "cell_type": "code",
   "execution_count": 18,
   "id": "8452a12e",
   "metadata": {},
   "outputs": [
    {
     "data": {
      "text/plain": [
       "employee_id                0\n",
       "department                 0\n",
       "region                     0\n",
       "education               1768\n",
       "gender                     0\n",
       "recruitment_channel        0\n",
       "no_of_trainings            0\n",
       "age                        0\n",
       "previous_year_rating    3024\n",
       "length_of_service          0\n",
       "awards_won                 0\n",
       "avg_training_score         0\n",
       "is_promoted                0\n",
       "dtype: int64"
      ]
     },
     "execution_count": 18,
     "metadata": {},
     "output_type": "execute_result"
    }
   ],
   "source": [
    "dft.isnull().sum()"
   ]
  },
  {
   "cell_type": "markdown",
   "id": "f13f26ec",
   "metadata": {},
   "source": [
    "handle 'previous_year_rating'"
   ]
  },
  {
   "cell_type": "code",
   "execution_count": 19,
   "id": "14f83366",
   "metadata": {
    "scrolled": true
   },
   "outputs": [
    {
     "data": {
      "text/plain": [
       "7.541147132169576"
      ]
     },
     "execution_count": 19,
     "metadata": {},
     "output_type": "execute_result"
    }
   ],
   "source": [
    "dft['previous_year_rating'].isnull().sum()/len(dft['employee_id'])*100"
   ]
  },
  {
   "cell_type": "code",
   "execution_count": 20,
   "id": "e16e3e81",
   "metadata": {},
   "outputs": [
    {
     "data": {
      "text/html": [
       "<div>\n",
       "<style scoped>\n",
       "    .dataframe tbody tr th:only-of-type {\n",
       "        vertical-align: middle;\n",
       "    }\n",
       "\n",
       "    .dataframe tbody tr th {\n",
       "        vertical-align: top;\n",
       "    }\n",
       "\n",
       "    .dataframe thead th {\n",
       "        text-align: right;\n",
       "    }\n",
       "</style>\n",
       "<table border=\"1\" class=\"dataframe\">\n",
       "  <thead>\n",
       "    <tr style=\"text-align: right;\">\n",
       "      <th></th>\n",
       "      <th>employee_id</th>\n",
       "      <th>department</th>\n",
       "      <th>region</th>\n",
       "      <th>education</th>\n",
       "      <th>gender</th>\n",
       "      <th>recruitment_channel</th>\n",
       "      <th>no_of_trainings</th>\n",
       "      <th>age</th>\n",
       "      <th>previous_year_rating</th>\n",
       "      <th>length_of_service</th>\n",
       "      <th>awards_won</th>\n",
       "      <th>avg_training_score</th>\n",
       "      <th>is_promoted</th>\n",
       "    </tr>\n",
       "  </thead>\n",
       "  <tbody>\n",
       "  </tbody>\n",
       "</table>\n",
       "</div>"
      ],
      "text/plain": [
       "Empty DataFrame\n",
       "Columns: [employee_id, department, region, education, gender, recruitment_channel, no_of_trainings, age, previous_year_rating, length_of_service, awards_won, avg_training_score, is_promoted]\n",
       "Index: []"
      ]
     },
     "execution_count": 20,
     "metadata": {},
     "output_type": "execute_result"
    }
   ],
   "source": [
    "dft[dft.previous_year_rating.isna() & dft.length_of_service>1]"
   ]
  },
  {
   "cell_type": "code",
   "execution_count": 21,
   "id": "d21b772a",
   "metadata": {},
   "outputs": [
    {
     "data": {
      "text/html": [
       "<div>\n",
       "<style scoped>\n",
       "    .dataframe tbody tr th:only-of-type {\n",
       "        vertical-align: middle;\n",
       "    }\n",
       "\n",
       "    .dataframe tbody tr th {\n",
       "        vertical-align: top;\n",
       "    }\n",
       "\n",
       "    .dataframe thead th {\n",
       "        text-align: right;\n",
       "    }\n",
       "</style>\n",
       "<table border=\"1\" class=\"dataframe\">\n",
       "  <thead>\n",
       "    <tr style=\"text-align: right;\">\n",
       "      <th></th>\n",
       "      <th>employee_id</th>\n",
       "      <th>department</th>\n",
       "      <th>region</th>\n",
       "      <th>education</th>\n",
       "      <th>gender</th>\n",
       "      <th>recruitment_channel</th>\n",
       "      <th>no_of_trainings</th>\n",
       "      <th>age</th>\n",
       "      <th>previous_year_rating</th>\n",
       "      <th>length_of_service</th>\n",
       "      <th>awards_won</th>\n",
       "      <th>avg_training_score</th>\n",
       "      <th>is_promoted</th>\n",
       "    </tr>\n",
       "  </thead>\n",
       "  <tbody>\n",
       "    <tr>\n",
       "      <th>6120</th>\n",
       "      <td>55682</td>\n",
       "      <td>Analytics</td>\n",
       "      <td>region_22</td>\n",
       "      <td>NaN</td>\n",
       "      <td>m</td>\n",
       "      <td>other</td>\n",
       "      <td>2</td>\n",
       "      <td>26</td>\n",
       "      <td>NaN</td>\n",
       "      <td>1</td>\n",
       "      <td>1</td>\n",
       "      <td>82</td>\n",
       "      <td>1</td>\n",
       "    </tr>\n",
       "    <tr>\n",
       "      <th>32303</th>\n",
       "      <td>70680</td>\n",
       "      <td>HR</td>\n",
       "      <td>region_22</td>\n",
       "      <td>Bachelor's</td>\n",
       "      <td>m</td>\n",
       "      <td>sourcing</td>\n",
       "      <td>1</td>\n",
       "      <td>28</td>\n",
       "      <td>NaN</td>\n",
       "      <td>1</td>\n",
       "      <td>0</td>\n",
       "      <td>51</td>\n",
       "      <td>1</td>\n",
       "    </tr>\n",
       "    <tr>\n",
       "      <th>26087</th>\n",
       "      <td>17576</td>\n",
       "      <td>Sales &amp; Marketing</td>\n",
       "      <td>region_7</td>\n",
       "      <td>NaN</td>\n",
       "      <td>m</td>\n",
       "      <td>other</td>\n",
       "      <td>6</td>\n",
       "      <td>25</td>\n",
       "      <td>NaN</td>\n",
       "      <td>1</td>\n",
       "      <td>0</td>\n",
       "      <td>50</td>\n",
       "      <td>1</td>\n",
       "    </tr>\n",
       "    <tr>\n",
       "      <th>26330</th>\n",
       "      <td>742</td>\n",
       "      <td>Technology</td>\n",
       "      <td>region_22</td>\n",
       "      <td>Bachelor's</td>\n",
       "      <td>m</td>\n",
       "      <td>other</td>\n",
       "      <td>1</td>\n",
       "      <td>26</td>\n",
       "      <td>NaN</td>\n",
       "      <td>1</td>\n",
       "      <td>0</td>\n",
       "      <td>80</td>\n",
       "      <td>1</td>\n",
       "    </tr>\n",
       "    <tr>\n",
       "      <th>39305</th>\n",
       "      <td>54045</td>\n",
       "      <td>R&amp;D</td>\n",
       "      <td>region_22</td>\n",
       "      <td>Bachelor's</td>\n",
       "      <td>m</td>\n",
       "      <td>sourcing</td>\n",
       "      <td>1</td>\n",
       "      <td>30</td>\n",
       "      <td>NaN</td>\n",
       "      <td>1</td>\n",
       "      <td>1</td>\n",
       "      <td>88</td>\n",
       "      <td>1</td>\n",
       "    </tr>\n",
       "  </tbody>\n",
       "</table>\n",
       "</div>"
      ],
      "text/plain": [
       "       employee_id         department     region   education gender  \\\n",
       "6120         55682          Analytics  region_22         NaN      m   \n",
       "32303        70680                 HR  region_22  Bachelor's      m   \n",
       "26087        17576  Sales & Marketing   region_7         NaN      m   \n",
       "26330          742         Technology  region_22  Bachelor's      m   \n",
       "39305        54045                R&D  region_22  Bachelor's      m   \n",
       "\n",
       "      recruitment_channel  no_of_trainings  age  previous_year_rating  \\\n",
       "6120                other                2   26                   NaN   \n",
       "32303            sourcing                1   28                   NaN   \n",
       "26087               other                6   25                   NaN   \n",
       "26330               other                1   26                   NaN   \n",
       "39305            sourcing                1   30                   NaN   \n",
       "\n",
       "       length_of_service  awards_won  avg_training_score  is_promoted  \n",
       "6120                   1           1                  82            1  \n",
       "32303                  1           0                  51            1  \n",
       "26087                  1           0                  50            1  \n",
       "26330                  1           0                  80            1  \n",
       "39305                  1           1                  88            1  "
      ]
     },
     "execution_count": 21,
     "metadata": {},
     "output_type": "execute_result"
    }
   ],
   "source": [
    "dft[dft.previous_year_rating.isna() & dft.is_promoted==1].sample(5)"
   ]
  },
  {
   "cell_type": "markdown",
   "id": "95ffac99",
   "metadata": {},
   "source": [
    "**Conc** : Employees that don't have rating is new employee (length of service is 1 year) and from history they still have a chance to get promoted. So we don't want to drop because is not fair for them. We will try to give them review with neutral value."
   ]
  },
  {
   "cell_type": "code",
   "execution_count": 22,
   "id": "bcfe5465",
   "metadata": {
    "scrolled": true
   },
   "outputs": [
    {
     "ename": "FileNotFoundError",
     "evalue": "No such file or directory: '1-5 rating.png'",
     "output_type": "error",
     "traceback": [
      "\u001b[0;31m---------------------------------------------------------------------------\u001b[0m",
      "\u001b[0;31mTypeError\u001b[0m                                 Traceback (most recent call last)",
      "\u001b[0;32m/opt/conda/lib/python3.7/site-packages/IPython/core/display.py\u001b[0m in \u001b[0;36m_data_and_metadata\u001b[0;34m(self, always_both)\u001b[0m\n\u001b[1;32m   1299\u001b[0m         \u001b[0;32mtry\u001b[0m\u001b[0;34m:\u001b[0m\u001b[0;34m\u001b[0m\u001b[0;34m\u001b[0m\u001b[0m\n\u001b[0;32m-> 1300\u001b[0;31m             \u001b[0mb64_data\u001b[0m \u001b[0;34m=\u001b[0m \u001b[0mb2a_base64\u001b[0m\u001b[0;34m(\u001b[0m\u001b[0mself\u001b[0m\u001b[0;34m.\u001b[0m\u001b[0mdata\u001b[0m\u001b[0;34m)\u001b[0m\u001b[0;34m.\u001b[0m\u001b[0mdecode\u001b[0m\u001b[0;34m(\u001b[0m\u001b[0;34m'ascii'\u001b[0m\u001b[0;34m)\u001b[0m\u001b[0;34m\u001b[0m\u001b[0;34m\u001b[0m\u001b[0m\n\u001b[0m\u001b[1;32m   1301\u001b[0m         \u001b[0;32mexcept\u001b[0m \u001b[0mTypeError\u001b[0m\u001b[0;34m:\u001b[0m\u001b[0;34m\u001b[0m\u001b[0;34m\u001b[0m\u001b[0m\n",
      "\u001b[0;31mTypeError\u001b[0m: a bytes-like object is required, not 'str'",
      "\nDuring handling of the above exception, another exception occurred:\n",
      "\u001b[0;31mFileNotFoundError\u001b[0m                         Traceback (most recent call last)",
      "\u001b[0;32m/opt/conda/lib/python3.7/site-packages/IPython/core/formatters.py\u001b[0m in \u001b[0;36m__call__\u001b[0;34m(self, obj, include, exclude)\u001b[0m\n\u001b[1;32m    968\u001b[0m \u001b[0;34m\u001b[0m\u001b[0m\n\u001b[1;32m    969\u001b[0m             \u001b[0;32mif\u001b[0m \u001b[0mmethod\u001b[0m \u001b[0;32mis\u001b[0m \u001b[0;32mnot\u001b[0m \u001b[0;32mNone\u001b[0m\u001b[0;34m:\u001b[0m\u001b[0;34m\u001b[0m\u001b[0;34m\u001b[0m\u001b[0m\n\u001b[0;32m--> 970\u001b[0;31m                 \u001b[0;32mreturn\u001b[0m \u001b[0mmethod\u001b[0m\u001b[0;34m(\u001b[0m\u001b[0minclude\u001b[0m\u001b[0;34m=\u001b[0m\u001b[0minclude\u001b[0m\u001b[0;34m,\u001b[0m \u001b[0mexclude\u001b[0m\u001b[0;34m=\u001b[0m\u001b[0mexclude\u001b[0m\u001b[0;34m)\u001b[0m\u001b[0;34m\u001b[0m\u001b[0;34m\u001b[0m\u001b[0m\n\u001b[0m\u001b[1;32m    971\u001b[0m             \u001b[0;32mreturn\u001b[0m \u001b[0;32mNone\u001b[0m\u001b[0;34m\u001b[0m\u001b[0;34m\u001b[0m\u001b[0m\n\u001b[1;32m    972\u001b[0m         \u001b[0;32melse\u001b[0m\u001b[0;34m:\u001b[0m\u001b[0;34m\u001b[0m\u001b[0;34m\u001b[0m\u001b[0m\n",
      "\u001b[0;32m/opt/conda/lib/python3.7/site-packages/IPython/core/display.py\u001b[0m in \u001b[0;36m_repr_mimebundle_\u001b[0;34m(self, include, exclude)\u001b[0m\n\u001b[1;32m   1288\u001b[0m         \u001b[0;32mif\u001b[0m \u001b[0mself\u001b[0m\u001b[0;34m.\u001b[0m\u001b[0membed\u001b[0m\u001b[0;34m:\u001b[0m\u001b[0;34m\u001b[0m\u001b[0;34m\u001b[0m\u001b[0m\n\u001b[1;32m   1289\u001b[0m             \u001b[0mmimetype\u001b[0m \u001b[0;34m=\u001b[0m \u001b[0mself\u001b[0m\u001b[0;34m.\u001b[0m\u001b[0m_mimetype\u001b[0m\u001b[0;34m\u001b[0m\u001b[0;34m\u001b[0m\u001b[0m\n\u001b[0;32m-> 1290\u001b[0;31m             \u001b[0mdata\u001b[0m\u001b[0;34m,\u001b[0m \u001b[0mmetadata\u001b[0m \u001b[0;34m=\u001b[0m \u001b[0mself\u001b[0m\u001b[0;34m.\u001b[0m\u001b[0m_data_and_metadata\u001b[0m\u001b[0;34m(\u001b[0m\u001b[0malways_both\u001b[0m\u001b[0;34m=\u001b[0m\u001b[0;32mTrue\u001b[0m\u001b[0;34m)\u001b[0m\u001b[0;34m\u001b[0m\u001b[0;34m\u001b[0m\u001b[0m\n\u001b[0m\u001b[1;32m   1291\u001b[0m             \u001b[0;32mif\u001b[0m \u001b[0mmetadata\u001b[0m\u001b[0;34m:\u001b[0m\u001b[0;34m\u001b[0m\u001b[0;34m\u001b[0m\u001b[0m\n\u001b[1;32m   1292\u001b[0m                 \u001b[0mmetadata\u001b[0m \u001b[0;34m=\u001b[0m \u001b[0;34m{\u001b[0m\u001b[0mmimetype\u001b[0m\u001b[0;34m:\u001b[0m \u001b[0mmetadata\u001b[0m\u001b[0;34m}\u001b[0m\u001b[0;34m\u001b[0m\u001b[0;34m\u001b[0m\u001b[0m\n",
      "\u001b[0;32m/opt/conda/lib/python3.7/site-packages/IPython/core/display.py\u001b[0m in \u001b[0;36m_data_and_metadata\u001b[0;34m(self, always_both)\u001b[0m\n\u001b[1;32m   1301\u001b[0m         \u001b[0;32mexcept\u001b[0m \u001b[0mTypeError\u001b[0m\u001b[0;34m:\u001b[0m\u001b[0;34m\u001b[0m\u001b[0;34m\u001b[0m\u001b[0m\n\u001b[1;32m   1302\u001b[0m             raise FileNotFoundError(\n\u001b[0;32m-> 1303\u001b[0;31m                 \"No such file or directory: '%s'\" % (self.data))\n\u001b[0m\u001b[1;32m   1304\u001b[0m         \u001b[0mmd\u001b[0m \u001b[0;34m=\u001b[0m \u001b[0;34m{\u001b[0m\u001b[0;34m}\u001b[0m\u001b[0;34m\u001b[0m\u001b[0;34m\u001b[0m\u001b[0m\n\u001b[1;32m   1305\u001b[0m         \u001b[0;32mif\u001b[0m \u001b[0mself\u001b[0m\u001b[0;34m.\u001b[0m\u001b[0mmetadata\u001b[0m\u001b[0;34m:\u001b[0m\u001b[0;34m\u001b[0m\u001b[0;34m\u001b[0m\u001b[0m\n",
      "\u001b[0;31mFileNotFoundError\u001b[0m: No such file or directory: '1-5 rating.png'"
     ]
    },
    {
     "ename": "FileNotFoundError",
     "evalue": "No such file or directory: '1-5 rating.png'",
     "output_type": "error",
     "traceback": [
      "\u001b[0;31m---------------------------------------------------------------------------\u001b[0m",
      "\u001b[0;31mTypeError\u001b[0m                                 Traceback (most recent call last)",
      "\u001b[0;32m/opt/conda/lib/python3.7/site-packages/IPython/core/display.py\u001b[0m in \u001b[0;36m_data_and_metadata\u001b[0;34m(self, always_both)\u001b[0m\n\u001b[1;32m   1299\u001b[0m         \u001b[0;32mtry\u001b[0m\u001b[0;34m:\u001b[0m\u001b[0;34m\u001b[0m\u001b[0;34m\u001b[0m\u001b[0m\n\u001b[0;32m-> 1300\u001b[0;31m             \u001b[0mb64_data\u001b[0m \u001b[0;34m=\u001b[0m \u001b[0mb2a_base64\u001b[0m\u001b[0;34m(\u001b[0m\u001b[0mself\u001b[0m\u001b[0;34m.\u001b[0m\u001b[0mdata\u001b[0m\u001b[0;34m)\u001b[0m\u001b[0;34m.\u001b[0m\u001b[0mdecode\u001b[0m\u001b[0;34m(\u001b[0m\u001b[0;34m'ascii'\u001b[0m\u001b[0;34m)\u001b[0m\u001b[0;34m\u001b[0m\u001b[0;34m\u001b[0m\u001b[0m\n\u001b[0m\u001b[1;32m   1301\u001b[0m         \u001b[0;32mexcept\u001b[0m \u001b[0mTypeError\u001b[0m\u001b[0;34m:\u001b[0m\u001b[0;34m\u001b[0m\u001b[0;34m\u001b[0m\u001b[0m\n",
      "\u001b[0;31mTypeError\u001b[0m: a bytes-like object is required, not 'str'",
      "\nDuring handling of the above exception, another exception occurred:\n",
      "\u001b[0;31mFileNotFoundError\u001b[0m                         Traceback (most recent call last)",
      "\u001b[0;32m/opt/conda/lib/python3.7/site-packages/IPython/core/formatters.py\u001b[0m in \u001b[0;36m__call__\u001b[0;34m(self, obj)\u001b[0m\n\u001b[1;32m    343\u001b[0m             \u001b[0mmethod\u001b[0m \u001b[0;34m=\u001b[0m \u001b[0mget_real_method\u001b[0m\u001b[0;34m(\u001b[0m\u001b[0mobj\u001b[0m\u001b[0;34m,\u001b[0m \u001b[0mself\u001b[0m\u001b[0;34m.\u001b[0m\u001b[0mprint_method\u001b[0m\u001b[0;34m)\u001b[0m\u001b[0;34m\u001b[0m\u001b[0;34m\u001b[0m\u001b[0m\n\u001b[1;32m    344\u001b[0m             \u001b[0;32mif\u001b[0m \u001b[0mmethod\u001b[0m \u001b[0;32mis\u001b[0m \u001b[0;32mnot\u001b[0m \u001b[0;32mNone\u001b[0m\u001b[0;34m:\u001b[0m\u001b[0;34m\u001b[0m\u001b[0;34m\u001b[0m\u001b[0m\n\u001b[0;32m--> 345\u001b[0;31m                 \u001b[0;32mreturn\u001b[0m \u001b[0mmethod\u001b[0m\u001b[0;34m(\u001b[0m\u001b[0;34m)\u001b[0m\u001b[0;34m\u001b[0m\u001b[0;34m\u001b[0m\u001b[0m\n\u001b[0m\u001b[1;32m    346\u001b[0m             \u001b[0;32mreturn\u001b[0m \u001b[0;32mNone\u001b[0m\u001b[0;34m\u001b[0m\u001b[0;34m\u001b[0m\u001b[0m\n\u001b[1;32m    347\u001b[0m         \u001b[0;32melse\u001b[0m\u001b[0;34m:\u001b[0m\u001b[0;34m\u001b[0m\u001b[0;34m\u001b[0m\u001b[0m\n",
      "\u001b[0;32m/opt/conda/lib/python3.7/site-packages/IPython/core/display.py\u001b[0m in \u001b[0;36m_repr_png_\u001b[0;34m(self)\u001b[0m\n\u001b[1;32m   1318\u001b[0m     \u001b[0;32mdef\u001b[0m \u001b[0m_repr_png_\u001b[0m\u001b[0;34m(\u001b[0m\u001b[0mself\u001b[0m\u001b[0;34m)\u001b[0m\u001b[0;34m:\u001b[0m\u001b[0;34m\u001b[0m\u001b[0;34m\u001b[0m\u001b[0m\n\u001b[1;32m   1319\u001b[0m         \u001b[0;32mif\u001b[0m \u001b[0mself\u001b[0m\u001b[0;34m.\u001b[0m\u001b[0membed\u001b[0m \u001b[0;32mand\u001b[0m \u001b[0mself\u001b[0m\u001b[0;34m.\u001b[0m\u001b[0mformat\u001b[0m \u001b[0;34m==\u001b[0m \u001b[0mself\u001b[0m\u001b[0;34m.\u001b[0m\u001b[0m_FMT_PNG\u001b[0m\u001b[0;34m:\u001b[0m\u001b[0;34m\u001b[0m\u001b[0;34m\u001b[0m\u001b[0m\n\u001b[0;32m-> 1320\u001b[0;31m             \u001b[0;32mreturn\u001b[0m \u001b[0mself\u001b[0m\u001b[0;34m.\u001b[0m\u001b[0m_data_and_metadata\u001b[0m\u001b[0;34m(\u001b[0m\u001b[0;34m)\u001b[0m\u001b[0;34m\u001b[0m\u001b[0;34m\u001b[0m\u001b[0m\n\u001b[0m\u001b[1;32m   1321\u001b[0m \u001b[0;34m\u001b[0m\u001b[0m\n\u001b[1;32m   1322\u001b[0m     \u001b[0;32mdef\u001b[0m \u001b[0m_repr_jpeg_\u001b[0m\u001b[0;34m(\u001b[0m\u001b[0mself\u001b[0m\u001b[0;34m)\u001b[0m\u001b[0;34m:\u001b[0m\u001b[0;34m\u001b[0m\u001b[0;34m\u001b[0m\u001b[0m\n",
      "\u001b[0;32m/opt/conda/lib/python3.7/site-packages/IPython/core/display.py\u001b[0m in \u001b[0;36m_data_and_metadata\u001b[0;34m(self, always_both)\u001b[0m\n\u001b[1;32m   1301\u001b[0m         \u001b[0;32mexcept\u001b[0m \u001b[0mTypeError\u001b[0m\u001b[0;34m:\u001b[0m\u001b[0;34m\u001b[0m\u001b[0;34m\u001b[0m\u001b[0m\n\u001b[1;32m   1302\u001b[0m             raise FileNotFoundError(\n\u001b[0;32m-> 1303\u001b[0;31m                 \"No such file or directory: '%s'\" % (self.data))\n\u001b[0m\u001b[1;32m   1304\u001b[0m         \u001b[0mmd\u001b[0m \u001b[0;34m=\u001b[0m \u001b[0;34m{\u001b[0m\u001b[0;34m}\u001b[0m\u001b[0;34m\u001b[0m\u001b[0;34m\u001b[0m\u001b[0m\n\u001b[1;32m   1305\u001b[0m         \u001b[0;32mif\u001b[0m \u001b[0mself\u001b[0m\u001b[0;34m.\u001b[0m\u001b[0mmetadata\u001b[0m\u001b[0;34m:\u001b[0m\u001b[0;34m\u001b[0m\u001b[0;34m\u001b[0m\u001b[0m\n",
      "\u001b[0;31mFileNotFoundError\u001b[0m: No such file or directory: '1-5 rating.png'"
     ]
    },
    {
     "data": {
      "text/plain": [
       "<IPython.core.display.Image object>"
      ]
     },
     "execution_count": 22,
     "metadata": {},
     "output_type": "execute_result"
    }
   ],
   "source": [
    "display.Image('1-5 rating.png', width=500, height=300)"
   ]
  },
  {
   "cell_type": "code",
   "execution_count": 23,
   "id": "278f210b",
   "metadata": {
    "scrolled": true
   },
   "outputs": [],
   "source": [
    "dft['previous_year_rating'] = dft['previous_year_rating'].fillna(3)"
   ]
  },
  {
   "cell_type": "code",
   "execution_count": 24,
   "id": "bc8886fc",
   "metadata": {},
   "outputs": [
    {
     "data": {
      "text/plain": [
       "array([nan, \"Bachelor's\", \"Master's & above\", 'Below Secondary'],\n",
       "      dtype=object)"
      ]
     },
     "execution_count": 24,
     "metadata": {},
     "output_type": "execute_result"
    }
   ],
   "source": [
    "dft['education'].unique()"
   ]
  },
  {
   "cell_type": "code",
   "execution_count": 25,
   "id": "27229226",
   "metadata": {},
   "outputs": [
    {
     "data": {
      "text/html": [
       "<div>\n",
       "<style scoped>\n",
       "    .dataframe tbody tr th:only-of-type {\n",
       "        vertical-align: middle;\n",
       "    }\n",
       "\n",
       "    .dataframe tbody tr th {\n",
       "        vertical-align: top;\n",
       "    }\n",
       "\n",
       "    .dataframe thead th {\n",
       "        text-align: right;\n",
       "    }\n",
       "</style>\n",
       "<table border=\"1\" class=\"dataframe\">\n",
       "  <thead>\n",
       "    <tr style=\"text-align: right;\">\n",
       "      <th></th>\n",
       "      <th>employee_id</th>\n",
       "      <th>department</th>\n",
       "      <th>region</th>\n",
       "      <th>education</th>\n",
       "      <th>gender</th>\n",
       "      <th>recruitment_channel</th>\n",
       "      <th>no_of_trainings</th>\n",
       "      <th>age</th>\n",
       "      <th>previous_year_rating</th>\n",
       "      <th>length_of_service</th>\n",
       "      <th>awards_won</th>\n",
       "      <th>avg_training_score</th>\n",
       "      <th>is_promoted</th>\n",
       "    </tr>\n",
       "  </thead>\n",
       "  <tbody>\n",
       "    <tr>\n",
       "      <th>24560</th>\n",
       "      <td>22964</td>\n",
       "      <td>Sales &amp; Marketing</td>\n",
       "      <td>region_15</td>\n",
       "      <td>NaN</td>\n",
       "      <td>m</td>\n",
       "      <td>sourcing</td>\n",
       "      <td>1</td>\n",
       "      <td>30</td>\n",
       "      <td>3.0</td>\n",
       "      <td>3</td>\n",
       "      <td>0</td>\n",
       "      <td>48</td>\n",
       "      <td>0</td>\n",
       "    </tr>\n",
       "    <tr>\n",
       "      <th>31978</th>\n",
       "      <td>78081</td>\n",
       "      <td>Sales &amp; Marketing</td>\n",
       "      <td>region_7</td>\n",
       "      <td>NaN</td>\n",
       "      <td>m</td>\n",
       "      <td>other</td>\n",
       "      <td>2</td>\n",
       "      <td>24</td>\n",
       "      <td>3.0</td>\n",
       "      <td>3</td>\n",
       "      <td>0</td>\n",
       "      <td>48</td>\n",
       "      <td>0</td>\n",
       "    </tr>\n",
       "    <tr>\n",
       "      <th>23745</th>\n",
       "      <td>1013</td>\n",
       "      <td>Analytics</td>\n",
       "      <td>region_22</td>\n",
       "      <td>NaN</td>\n",
       "      <td>m</td>\n",
       "      <td>sourcing</td>\n",
       "      <td>2</td>\n",
       "      <td>27</td>\n",
       "      <td>5.0</td>\n",
       "      <td>1</td>\n",
       "      <td>0</td>\n",
       "      <td>82</td>\n",
       "      <td>0</td>\n",
       "    </tr>\n",
       "    <tr>\n",
       "      <th>14048</th>\n",
       "      <td>69898</td>\n",
       "      <td>Operations</td>\n",
       "      <td>region_2</td>\n",
       "      <td>NaN</td>\n",
       "      <td>f</td>\n",
       "      <td>other</td>\n",
       "      <td>1</td>\n",
       "      <td>58</td>\n",
       "      <td>3.0</td>\n",
       "      <td>4</td>\n",
       "      <td>0</td>\n",
       "      <td>53</td>\n",
       "      <td>0</td>\n",
       "    </tr>\n",
       "    <tr>\n",
       "      <th>32917</th>\n",
       "      <td>29299</td>\n",
       "      <td>Operations</td>\n",
       "      <td>region_15</td>\n",
       "      <td>NaN</td>\n",
       "      <td>m</td>\n",
       "      <td>other</td>\n",
       "      <td>1</td>\n",
       "      <td>37</td>\n",
       "      <td>3.0</td>\n",
       "      <td>3</td>\n",
       "      <td>0</td>\n",
       "      <td>62</td>\n",
       "      <td>0</td>\n",
       "    </tr>\n",
       "  </tbody>\n",
       "</table>\n",
       "</div>"
      ],
      "text/plain": [
       "       employee_id         department     region education gender  \\\n",
       "24560        22964  Sales & Marketing  region_15       NaN      m   \n",
       "31978        78081  Sales & Marketing   region_7       NaN      m   \n",
       "23745         1013          Analytics  region_22       NaN      m   \n",
       "14048        69898         Operations   region_2       NaN      f   \n",
       "32917        29299         Operations  region_15       NaN      m   \n",
       "\n",
       "      recruitment_channel  no_of_trainings  age  previous_year_rating  \\\n",
       "24560            sourcing                1   30                   3.0   \n",
       "31978               other                2   24                   3.0   \n",
       "23745            sourcing                2   27                   5.0   \n",
       "14048               other                1   58                   3.0   \n",
       "32917               other                1   37                   3.0   \n",
       "\n",
       "       length_of_service  awards_won  avg_training_score  is_promoted  \n",
       "24560                  3           0                  48            0  \n",
       "31978                  3           0                  48            0  \n",
       "23745                  1           0                  82            0  \n",
       "14048                  4           0                  53            0  \n",
       "32917                  3           0                  62            0  "
      ]
     },
     "execution_count": 25,
     "metadata": {},
     "output_type": "execute_result"
    }
   ],
   "source": [
    "dft[dft.education.isna()].sample(5)"
   ]
  },
  {
   "cell_type": "markdown",
   "id": "3561a380",
   "metadata": {},
   "source": [
    "handle 'education'"
   ]
  },
  {
   "cell_type": "code",
   "execution_count": 26,
   "id": "cdd4cc81",
   "metadata": {},
   "outputs": [
    {
     "data": {
      "text/plain": [
       "4.4089775561097255"
      ]
     },
     "execution_count": 26,
     "metadata": {},
     "output_type": "execute_result"
    }
   ],
   "source": [
    "dft['education'].isnull().sum()/len(dft['employee_id'])*100"
   ]
  },
  {
   "cell_type": "markdown",
   "id": "6ae6b3d2",
   "metadata": {},
   "source": [
    "Only 4.4% from data, we'll drop them."
   ]
  },
  {
   "cell_type": "code",
   "execution_count": 27,
   "id": "14742032",
   "metadata": {},
   "outputs": [],
   "source": [
    "dft.dropna(inplace=True)"
   ]
  },
  {
   "cell_type": "code",
   "execution_count": 28,
   "id": "0960085f",
   "metadata": {
    "scrolled": true
   },
   "outputs": [
    {
     "name": "stdout",
     "output_type": "stream",
     "text": [
      "<class 'pandas.core.frame.DataFrame'>\n",
      "Int64Index: 38332 entries, 1 to 40099\n",
      "Data columns (total 13 columns):\n",
      " #   Column                Non-Null Count  Dtype  \n",
      "---  ------                --------------  -----  \n",
      " 0   employee_id           38332 non-null  int64  \n",
      " 1   department            38332 non-null  object \n",
      " 2   region                38332 non-null  object \n",
      " 3   education             38332 non-null  object \n",
      " 4   gender                38332 non-null  object \n",
      " 5   recruitment_channel   38332 non-null  object \n",
      " 6   no_of_trainings       38332 non-null  int64  \n",
      " 7   age                   38332 non-null  int64  \n",
      " 8   previous_year_rating  38332 non-null  float64\n",
      " 9   length_of_service     38332 non-null  int64  \n",
      " 10  awards_won            38332 non-null  int64  \n",
      " 11  avg_training_score    38332 non-null  int64  \n",
      " 12  is_promoted           38332 non-null  int64  \n",
      "dtypes: float64(1), int64(7), object(5)\n",
      "memory usage: 4.1+ MB\n"
     ]
    }
   ],
   "source": [
    "dft.info()"
   ]
  },
  {
   "cell_type": "code",
   "execution_count": null,
   "id": "32312e0c",
   "metadata": {},
   "outputs": [],
   "source": []
  },
  {
   "cell_type": "markdown",
   "id": "186c14a7",
   "metadata": {},
   "source": [
    "## Data Predict 2022"
   ]
  },
  {
   "cell_type": "code",
   "execution_count": 29,
   "id": "30d55b68",
   "metadata": {
    "scrolled": true
   },
   "outputs": [
    {
     "data": {
      "text/html": [
       "<div>\n",
       "<style scoped>\n",
       "    .dataframe tbody tr th:only-of-type {\n",
       "        vertical-align: middle;\n",
       "    }\n",
       "\n",
       "    .dataframe tbody tr th {\n",
       "        vertical-align: top;\n",
       "    }\n",
       "\n",
       "    .dataframe thead th {\n",
       "        text-align: right;\n",
       "    }\n",
       "</style>\n",
       "<table border=\"1\" class=\"dataframe\">\n",
       "  <thead>\n",
       "    <tr style=\"text-align: right;\">\n",
       "      <th></th>\n",
       "      <th>employee_id</th>\n",
       "      <th>department</th>\n",
       "      <th>region</th>\n",
       "      <th>education</th>\n",
       "      <th>gender</th>\n",
       "      <th>recruitment_channel</th>\n",
       "      <th>no_of_trainings</th>\n",
       "      <th>age</th>\n",
       "      <th>previous_year_rating</th>\n",
       "      <th>length_of_service</th>\n",
       "      <th>awards_won?</th>\n",
       "      <th>avg_training_score</th>\n",
       "    </tr>\n",
       "  </thead>\n",
       "  <tbody>\n",
       "    <tr>\n",
       "      <th>4829</th>\n",
       "      <td>34287</td>\n",
       "      <td>Technology</td>\n",
       "      <td>region_28</td>\n",
       "      <td>Bachelor's</td>\n",
       "      <td>f</td>\n",
       "      <td>sourcing</td>\n",
       "      <td>1</td>\n",
       "      <td>28</td>\n",
       "      <td>3.0</td>\n",
       "      <td>6</td>\n",
       "      <td>0</td>\n",
       "      <td>75</td>\n",
       "    </tr>\n",
       "    <tr>\n",
       "      <th>10801</th>\n",
       "      <td>52656</td>\n",
       "      <td>Sales &amp; Marketing</td>\n",
       "      <td>region_13</td>\n",
       "      <td>Bachelor's</td>\n",
       "      <td>m</td>\n",
       "      <td>other</td>\n",
       "      <td>1</td>\n",
       "      <td>41</td>\n",
       "      <td>5.0</td>\n",
       "      <td>6</td>\n",
       "      <td>0</td>\n",
       "      <td>55</td>\n",
       "    </tr>\n",
       "    <tr>\n",
       "      <th>1987</th>\n",
       "      <td>12378</td>\n",
       "      <td>Sales &amp; Marketing</td>\n",
       "      <td>region_7</td>\n",
       "      <td>Master's &amp; above</td>\n",
       "      <td>f</td>\n",
       "      <td>other</td>\n",
       "      <td>1</td>\n",
       "      <td>43</td>\n",
       "      <td>1.0</td>\n",
       "      <td>14</td>\n",
       "      <td>0</td>\n",
       "      <td>51</td>\n",
       "    </tr>\n",
       "    <tr>\n",
       "      <th>11858</th>\n",
       "      <td>53525</td>\n",
       "      <td>Analytics</td>\n",
       "      <td>region_2</td>\n",
       "      <td>Bachelor's</td>\n",
       "      <td>m</td>\n",
       "      <td>other</td>\n",
       "      <td>1</td>\n",
       "      <td>28</td>\n",
       "      <td>1.0</td>\n",
       "      <td>6</td>\n",
       "      <td>0</td>\n",
       "      <td>85</td>\n",
       "    </tr>\n",
       "    <tr>\n",
       "      <th>11226</th>\n",
       "      <td>58529</td>\n",
       "      <td>Operations</td>\n",
       "      <td>region_4</td>\n",
       "      <td>Bachelor's</td>\n",
       "      <td>f</td>\n",
       "      <td>other</td>\n",
       "      <td>1</td>\n",
       "      <td>36</td>\n",
       "      <td>5.0</td>\n",
       "      <td>5</td>\n",
       "      <td>0</td>\n",
       "      <td>54</td>\n",
       "    </tr>\n",
       "  </tbody>\n",
       "</table>\n",
       "</div>"
      ],
      "text/plain": [
       "       employee_id         department     region         education gender  \\\n",
       "4829         34287         Technology  region_28        Bachelor's      f   \n",
       "10801        52656  Sales & Marketing  region_13        Bachelor's      m   \n",
       "1987         12378  Sales & Marketing   region_7  Master's & above      f   \n",
       "11858        53525          Analytics   region_2        Bachelor's      m   \n",
       "11226        58529         Operations   region_4        Bachelor's      f   \n",
       "\n",
       "      recruitment_channel  no_of_trainings  age  previous_year_rating  \\\n",
       "4829             sourcing                1   28                   3.0   \n",
       "10801               other                1   41                   5.0   \n",
       "1987                other                1   43                   1.0   \n",
       "11858               other                1   28                   1.0   \n",
       "11226               other                1   36                   5.0   \n",
       "\n",
       "       length_of_service  awards_won?  avg_training_score  \n",
       "4829                   6            0                  75  \n",
       "10801                  6            0                  55  \n",
       "1987                  14            0                  51  \n",
       "11858                  6            0                  85  \n",
       "11226                  5            0                  54  "
      ]
     },
     "execution_count": 29,
     "metadata": {},
     "output_type": "execute_result"
    }
   ],
   "source": [
    "dfp.sample(5)"
   ]
  },
  {
   "cell_type": "code",
   "execution_count": 30,
   "id": "84476eb0",
   "metadata": {
    "scrolled": true
   },
   "outputs": [
    {
     "name": "stdout",
     "output_type": "stream",
     "text": [
      "<class 'pandas.core.frame.DataFrame'>\n",
      "RangeIndex: 14707 entries, 0 to 14706\n",
      "Data columns (total 12 columns):\n",
      " #   Column                Non-Null Count  Dtype  \n",
      "---  ------                --------------  -----  \n",
      " 0   employee_id           14707 non-null  int64  \n",
      " 1   department            14707 non-null  object \n",
      " 2   region                14707 non-null  object \n",
      " 3   education             14066 non-null  object \n",
      " 4   gender                14707 non-null  object \n",
      " 5   recruitment_channel   14707 non-null  object \n",
      " 6   no_of_trainings       14707 non-null  int64  \n",
      " 7   age                   14707 non-null  int64  \n",
      " 8   previous_year_rating  13607 non-null  float64\n",
      " 9   length_of_service     14707 non-null  int64  \n",
      " 10  awards_won?           14707 non-null  int64  \n",
      " 11  avg_training_score    14707 non-null  int64  \n",
      "dtypes: float64(1), int64(6), object(5)\n",
      "memory usage: 1.3+ MB\n"
     ]
    }
   ],
   "source": [
    "dfp.info()"
   ]
  },
  {
   "cell_type": "code",
   "execution_count": 31,
   "id": "565d607e",
   "metadata": {},
   "outputs": [],
   "source": [
    "dfp.rename(columns={'awards_won?':'awards_won'}, inplace=True)"
   ]
  },
  {
   "cell_type": "code",
   "execution_count": 32,
   "id": "997816d7",
   "metadata": {},
   "outputs": [
    {
     "data": {
      "text/plain": [
       "(array([], dtype=int64), array([], dtype=int64))"
      ]
     },
     "execution_count": 32,
     "metadata": {},
     "output_type": "execute_result"
    }
   ],
   "source": [
    "np.where(dfp.applymap(lambda x: x == ''))"
   ]
  },
  {
   "cell_type": "code",
   "execution_count": 33,
   "id": "a2742198",
   "metadata": {},
   "outputs": [
    {
     "data": {
      "text/plain": [
       "14707"
      ]
     },
     "execution_count": 33,
     "metadata": {},
     "output_type": "execute_result"
    }
   ],
   "source": [
    "dfp['employee_id'].nunique()"
   ]
  },
  {
   "cell_type": "code",
   "execution_count": 34,
   "id": "2a03290f",
   "metadata": {},
   "outputs": [
    {
     "data": {
      "text/plain": [
       "0"
      ]
     },
     "execution_count": 34,
     "metadata": {},
     "output_type": "execute_result"
    }
   ],
   "source": [
    "dfp.duplicated().sum()"
   ]
  },
  {
   "cell_type": "code",
   "execution_count": 35,
   "id": "83aa0f9b",
   "metadata": {},
   "outputs": [
    {
     "data": {
      "text/plain": [
       "0"
      ]
     },
     "execution_count": 35,
     "metadata": {},
     "output_type": "execute_result"
    }
   ],
   "source": [
    "dfp.duplicated(subset=['employee_id','gender','department']).sum()"
   ]
  },
  {
   "cell_type": "markdown",
   "id": "a5147321",
   "metadata": {},
   "source": [
    "**Conc** : All employee ID is unique"
   ]
  },
  {
   "cell_type": "code",
   "execution_count": 36,
   "id": "35008f85",
   "metadata": {},
   "outputs": [
    {
     "data": {
      "text/plain": [
       "employee_id                0\n",
       "department                 0\n",
       "region                     0\n",
       "education                641\n",
       "gender                     0\n",
       "recruitment_channel        0\n",
       "no_of_trainings            0\n",
       "age                        0\n",
       "previous_year_rating    1100\n",
       "length_of_service          0\n",
       "awards_won                 0\n",
       "avg_training_score         0\n",
       "dtype: int64"
      ]
     },
     "execution_count": 36,
     "metadata": {},
     "output_type": "execute_result"
    }
   ],
   "source": [
    "dfp.isnull().sum()"
   ]
  },
  {
   "cell_type": "code",
   "execution_count": 37,
   "id": "5d06301d",
   "metadata": {},
   "outputs": [
    {
     "data": {
      "text/plain": [
       "7.479431563201197"
      ]
     },
     "execution_count": 37,
     "metadata": {},
     "output_type": "execute_result"
    }
   ],
   "source": [
    "dfp['previous_year_rating'].isnull().sum()/len(dfp['employee_id'])*100"
   ]
  },
  {
   "cell_type": "code",
   "execution_count": 38,
   "id": "870832e8",
   "metadata": {
    "scrolled": true
   },
   "outputs": [
    {
     "data": {
      "text/html": [
       "<div>\n",
       "<style scoped>\n",
       "    .dataframe tbody tr th:only-of-type {\n",
       "        vertical-align: middle;\n",
       "    }\n",
       "\n",
       "    .dataframe tbody tr th {\n",
       "        vertical-align: top;\n",
       "    }\n",
       "\n",
       "    .dataframe thead th {\n",
       "        text-align: right;\n",
       "    }\n",
       "</style>\n",
       "<table border=\"1\" class=\"dataframe\">\n",
       "  <thead>\n",
       "    <tr style=\"text-align: right;\">\n",
       "      <th></th>\n",
       "      <th>employee_id</th>\n",
       "      <th>department</th>\n",
       "      <th>region</th>\n",
       "      <th>education</th>\n",
       "      <th>gender</th>\n",
       "      <th>recruitment_channel</th>\n",
       "      <th>no_of_trainings</th>\n",
       "      <th>age</th>\n",
       "      <th>previous_year_rating</th>\n",
       "      <th>length_of_service</th>\n",
       "      <th>awards_won</th>\n",
       "      <th>avg_training_score</th>\n",
       "    </tr>\n",
       "  </thead>\n",
       "  <tbody>\n",
       "  </tbody>\n",
       "</table>\n",
       "</div>"
      ],
      "text/plain": [
       "Empty DataFrame\n",
       "Columns: [employee_id, department, region, education, gender, recruitment_channel, no_of_trainings, age, previous_year_rating, length_of_service, awards_won, avg_training_score]\n",
       "Index: []"
      ]
     },
     "execution_count": 38,
     "metadata": {},
     "output_type": "execute_result"
    }
   ],
   "source": [
    "dfp[dfp.previous_year_rating.isna() & dfp.length_of_service>1]"
   ]
  },
  {
   "cell_type": "markdown",
   "id": "286dd9cb",
   "metadata": {},
   "source": [
    "We fill rating that missing with 3 like data training 2021"
   ]
  },
  {
   "cell_type": "code",
   "execution_count": 39,
   "id": "264ecad9",
   "metadata": {},
   "outputs": [],
   "source": [
    "dfp['previous_year_rating'] = dfp['previous_year_rating'].fillna(3)"
   ]
  },
  {
   "cell_type": "code",
   "execution_count": 40,
   "id": "e978ffd1",
   "metadata": {
    "scrolled": true
   },
   "outputs": [
    {
     "data": {
      "text/plain": [
       "4.358468756374516"
      ]
     },
     "execution_count": 40,
     "metadata": {},
     "output_type": "execute_result"
    }
   ],
   "source": [
    "dfp['education'].isnull().sum()/len(dfp['employee_id'])*100"
   ]
  },
  {
   "cell_type": "markdown",
   "id": "e7f746fd",
   "metadata": {},
   "source": [
    "We'll drop too data missing in education like in data 2021"
   ]
  },
  {
   "cell_type": "code",
   "execution_count": 41,
   "id": "bd5df3dc",
   "metadata": {},
   "outputs": [],
   "source": [
    "dfp.dropna(inplace=True)"
   ]
  },
  {
   "cell_type": "code",
   "execution_count": 42,
   "id": "7d4043d3",
   "metadata": {},
   "outputs": [
    {
     "name": "stdout",
     "output_type": "stream",
     "text": [
      "<class 'pandas.core.frame.DataFrame'>\n",
      "Int64Index: 14066 entries, 0 to 14705\n",
      "Data columns (total 12 columns):\n",
      " #   Column                Non-Null Count  Dtype  \n",
      "---  ------                --------------  -----  \n",
      " 0   employee_id           14066 non-null  int64  \n",
      " 1   department            14066 non-null  object \n",
      " 2   region                14066 non-null  object \n",
      " 3   education             14066 non-null  object \n",
      " 4   gender                14066 non-null  object \n",
      " 5   recruitment_channel   14066 non-null  object \n",
      " 6   no_of_trainings       14066 non-null  int64  \n",
      " 7   age                   14066 non-null  int64  \n",
      " 8   previous_year_rating  14066 non-null  float64\n",
      " 9   length_of_service     14066 non-null  int64  \n",
      " 10  awards_won            14066 non-null  int64  \n",
      " 11  avg_training_score    14066 non-null  int64  \n",
      "dtypes: float64(1), int64(6), object(5)\n",
      "memory usage: 1.4+ MB\n"
     ]
    }
   ],
   "source": [
    "dfp.info()"
   ]
  },
  {
   "cell_type": "code",
   "execution_count": null,
   "id": "750c685a",
   "metadata": {},
   "outputs": [],
   "source": []
  },
  {
   "cell_type": "markdown",
   "id": "0ec7c61c",
   "metadata": {},
   "source": [
    "## Looking for insight"
   ]
  },
  {
   "cell_type": "code",
   "execution_count": 43,
   "id": "c9a2f4d8",
   "metadata": {
    "scrolled": true
   },
   "outputs": [
    {
     "data": {
      "text/plain": [
       "0"
      ]
     },
     "execution_count": 43,
     "metadata": {},
     "output_type": "execute_result"
    }
   ],
   "source": [
    "dft['employee_id'].isin(dfp['employee_id']).sum()"
   ]
  },
  {
   "cell_type": "markdown",
   "id": "5936006d",
   "metadata": {},
   "source": [
    "**Conc** = Data Train 2021 & Data Predict 2022 is contain different employee"
   ]
  },
  {
   "cell_type": "code",
   "execution_count": null,
   "id": "9204532b",
   "metadata": {},
   "outputs": [],
   "source": []
  },
  {
   "cell_type": "markdown",
   "id": "7824a232",
   "metadata": {},
   "source": [
    "### Age Categorize"
   ]
  },
  {
   "cell_type": "markdown",
   "id": "ea64884d",
   "metadata": {},
   "source": [
    "We need to categorize the age to see comparison the customers by age groups. \n",
    "Age categorize refers to Dyussenbayev, A. (2017). Age Periods Of Human Life. Advances in Social Sciences Research Journal.\n",
    "<img src=\"image_age.png\" width=300 height=300 />"
   ]
  },
  {
   "cell_type": "code",
   "execution_count": 44,
   "id": "c8f9cc33",
   "metadata": {},
   "outputs": [],
   "source": [
    "#Data 2022\n",
    "dfp['age_cats'] = pd.cut(dfp.age,\n",
    "                 [0, 25, 44, 60, 75, 90],\n",
    "                 labels=['teen','young age','middle age','eldery age','senile age'])\n",
    "dfp_age = dfp.groupby('age_cats').agg({'employee_id':'count'}).reset_index()\n",
    "dfp_age['Percentage'] = dfp_age['employee_id'].apply(lambda x:round(x/dfp_age['employee_id'].sum()*100,2))"
   ]
  },
  {
   "cell_type": "code",
   "execution_count": 45,
   "id": "05dcfd0b",
   "metadata": {},
   "outputs": [
    {
     "data": {
      "text/html": [
       "<div>\n",
       "<style scoped>\n",
       "    .dataframe tbody tr th:only-of-type {\n",
       "        vertical-align: middle;\n",
       "    }\n",
       "\n",
       "    .dataframe tbody tr th {\n",
       "        vertical-align: top;\n",
       "    }\n",
       "\n",
       "    .dataframe thead th {\n",
       "        text-align: right;\n",
       "    }\n",
       "</style>\n",
       "<table border=\"1\" class=\"dataframe\">\n",
       "  <thead>\n",
       "    <tr style=\"text-align: right;\">\n",
       "      <th></th>\n",
       "      <th>age_cats</th>\n",
       "      <th>employee_id</th>\n",
       "      <th>Percentage</th>\n",
       "    </tr>\n",
       "  </thead>\n",
       "  <tbody>\n",
       "    <tr>\n",
       "      <th>0</th>\n",
       "      <td>teen</td>\n",
       "      <td>645</td>\n",
       "      <td>4.59</td>\n",
       "    </tr>\n",
       "    <tr>\n",
       "      <th>1</th>\n",
       "      <td>young age</td>\n",
       "      <td>11773</td>\n",
       "      <td>83.70</td>\n",
       "    </tr>\n",
       "    <tr>\n",
       "      <th>2</th>\n",
       "      <td>middle age</td>\n",
       "      <td>1648</td>\n",
       "      <td>11.72</td>\n",
       "    </tr>\n",
       "    <tr>\n",
       "      <th>3</th>\n",
       "      <td>eldery age</td>\n",
       "      <td>0</td>\n",
       "      <td>0.00</td>\n",
       "    </tr>\n",
       "    <tr>\n",
       "      <th>4</th>\n",
       "      <td>senile age</td>\n",
       "      <td>0</td>\n",
       "      <td>0.00</td>\n",
       "    </tr>\n",
       "  </tbody>\n",
       "</table>\n",
       "</div>"
      ],
      "text/plain": [
       "     age_cats  employee_id  Percentage\n",
       "0        teen          645        4.59\n",
       "1   young age        11773       83.70\n",
       "2  middle age         1648       11.72\n",
       "3  eldery age            0        0.00\n",
       "4  senile age            0        0.00"
      ]
     },
     "execution_count": 45,
     "metadata": {},
     "output_type": "execute_result"
    }
   ],
   "source": [
    "dfp_age.head()"
   ]
  },
  {
   "cell_type": "code",
   "execution_count": 46,
   "id": "b87a3aea",
   "metadata": {},
   "outputs": [
    {
     "data": {
      "text/plain": [
       "Text(0.5, 0, 'Age Classifications')"
      ]
     },
     "execution_count": 46,
     "metadata": {},
     "output_type": "execute_result"
    },
    {
     "data": {
      "image/png": "[encoded data removed]",
      "text/plain": [
       "<Figure size 1040x480 with 1 Axes>"
      ]
     },
     "metadata": {},
     "output_type": "display_data"
    }
   ],
   "source": [
    "flatui = [\"#b8b8b8\", \"#ff4d4d\", \"#ff4d4d\", \"#ff4d4d\", \"#b8b8b8\"]\n",
    "sns.set_palette(flatui)\n",
    "\n",
    "figure(figsize=(13, 6), dpi=80)\n",
    "\n",
    "ax = sns.barplot(x='age_cats',y='Percentage',data=dfp_age,  palette =sns.color_palette())\n",
    "ax.bar_label(ax.containers[0])\n",
    "ax.set_ylim(0,90)\n",
    "plt.ylabel('Number of Customers')\n",
    "plt.xlabel('Age Classifications')\n",
    "#plt.title('Comparison of Employee by Age (%)', fontsize=16)"
   ]
  },
  {
   "cell_type": "code",
   "execution_count": 47,
   "id": "07835245",
   "metadata": {
    "scrolled": true
   },
   "outputs": [],
   "source": [
    "dfp_age_dep = dfp.groupby(['department','age_cats']).agg({'employee_id':'count'}).reset_index()\n",
    "dfp_age_dep = dfp_age_dep[dfp_age_dep.employee_id > 1].reset_index()"
   ]
  },
  {
   "cell_type": "code",
   "execution_count": 48,
   "id": "5a741410",
   "metadata": {
    "scrolled": true
   },
   "outputs": [
    {
     "data": {
      "text/html": [
       "<div>\n",
       "<style scoped>\n",
       "    .dataframe tbody tr th:only-of-type {\n",
       "        vertical-align: middle;\n",
       "    }\n",
       "\n",
       "    .dataframe tbody tr th {\n",
       "        vertical-align: top;\n",
       "    }\n",
       "\n",
       "    .dataframe thead th {\n",
       "        text-align: right;\n",
       "    }\n",
       "</style>\n",
       "<table border=\"1\" class=\"dataframe\">\n",
       "  <thead>\n",
       "    <tr style=\"text-align: right;\">\n",
       "      <th></th>\n",
       "      <th>department</th>\n",
       "      <th>age_cats</th>\n",
       "      <th>employee_id</th>\n",
       "    </tr>\n",
       "  </thead>\n",
       "  <tbody>\n",
       "    <tr>\n",
       "      <th>0</th>\n",
       "      <td>Analytics</td>\n",
       "      <td>teen</td>\n",
       "      <td>34</td>\n",
       "    </tr>\n",
       "    <tr>\n",
       "      <th>1</th>\n",
       "      <td>Analytics</td>\n",
       "      <td>young age</td>\n",
       "      <td>1225</td>\n",
       "    </tr>\n",
       "    <tr>\n",
       "      <th>2</th>\n",
       "      <td>Analytics</td>\n",
       "      <td>middle age</td>\n",
       "      <td>76</td>\n",
       "    </tr>\n",
       "    <tr>\n",
       "      <th>3</th>\n",
       "      <td>Finance</td>\n",
       "      <td>teen</td>\n",
       "      <td>60</td>\n",
       "    </tr>\n",
       "    <tr>\n",
       "      <th>4</th>\n",
       "      <td>Finance</td>\n",
       "      <td>young age</td>\n",
       "      <td>554</td>\n",
       "    </tr>\n",
       "    <tr>\n",
       "      <th>5</th>\n",
       "      <td>Finance</td>\n",
       "      <td>middle age</td>\n",
       "      <td>43</td>\n",
       "    </tr>\n",
       "    <tr>\n",
       "      <th>6</th>\n",
       "      <td>HR</td>\n",
       "      <td>teen</td>\n",
       "      <td>64</td>\n",
       "    </tr>\n",
       "    <tr>\n",
       "      <th>7</th>\n",
       "      <td>HR</td>\n",
       "      <td>young age</td>\n",
       "      <td>516</td>\n",
       "    </tr>\n",
       "    <tr>\n",
       "      <th>8</th>\n",
       "      <td>HR</td>\n",
       "      <td>middle age</td>\n",
       "      <td>93</td>\n",
       "    </tr>\n",
       "    <tr>\n",
       "      <th>9</th>\n",
       "      <td>Legal</td>\n",
       "      <td>teen</td>\n",
       "      <td>7</td>\n",
       "    </tr>\n",
       "    <tr>\n",
       "      <th>10</th>\n",
       "      <td>Legal</td>\n",
       "      <td>young age</td>\n",
       "      <td>258</td>\n",
       "    </tr>\n",
       "    <tr>\n",
       "      <th>11</th>\n",
       "      <td>Legal</td>\n",
       "      <td>middle age</td>\n",
       "      <td>29</td>\n",
       "    </tr>\n",
       "    <tr>\n",
       "      <th>12</th>\n",
       "      <td>Operations</td>\n",
       "      <td>teen</td>\n",
       "      <td>101</td>\n",
       "    </tr>\n",
       "    <tr>\n",
       "      <th>13</th>\n",
       "      <td>Operations</td>\n",
       "      <td>young age</td>\n",
       "      <td>2483</td>\n",
       "    </tr>\n",
       "    <tr>\n",
       "      <th>14</th>\n",
       "      <td>Operations</td>\n",
       "      <td>middle age</td>\n",
       "      <td>422</td>\n",
       "    </tr>\n",
       "    <tr>\n",
       "      <th>15</th>\n",
       "      <td>Procurement</td>\n",
       "      <td>teen</td>\n",
       "      <td>75</td>\n",
       "    </tr>\n",
       "    <tr>\n",
       "      <th>16</th>\n",
       "      <td>Procurement</td>\n",
       "      <td>young age</td>\n",
       "      <td>1523</td>\n",
       "    </tr>\n",
       "    <tr>\n",
       "      <th>17</th>\n",
       "      <td>Procurement</td>\n",
       "      <td>middle age</td>\n",
       "      <td>262</td>\n",
       "    </tr>\n",
       "    <tr>\n",
       "      <th>18</th>\n",
       "      <td>R&amp;D</td>\n",
       "      <td>teen</td>\n",
       "      <td>2</td>\n",
       "    </tr>\n",
       "    <tr>\n",
       "      <th>19</th>\n",
       "      <td>R&amp;D</td>\n",
       "      <td>young age</td>\n",
       "      <td>243</td>\n",
       "    </tr>\n",
       "    <tr>\n",
       "      <th>20</th>\n",
       "      <td>R&amp;D</td>\n",
       "      <td>middle age</td>\n",
       "      <td>5</td>\n",
       "    </tr>\n",
       "    <tr>\n",
       "      <th>21</th>\n",
       "      <td>Sales &amp; Marketing</td>\n",
       "      <td>teen</td>\n",
       "      <td>169</td>\n",
       "    </tr>\n",
       "    <tr>\n",
       "      <th>22</th>\n",
       "      <td>Sales &amp; Marketing</td>\n",
       "      <td>young age</td>\n",
       "      <td>3454</td>\n",
       "    </tr>\n",
       "    <tr>\n",
       "      <th>23</th>\n",
       "      <td>Sales &amp; Marketing</td>\n",
       "      <td>middle age</td>\n",
       "      <td>488</td>\n",
       "    </tr>\n",
       "    <tr>\n",
       "      <th>24</th>\n",
       "      <td>Technology</td>\n",
       "      <td>teen</td>\n",
       "      <td>133</td>\n",
       "    </tr>\n",
       "    <tr>\n",
       "      <th>25</th>\n",
       "      <td>Technology</td>\n",
       "      <td>young age</td>\n",
       "      <td>1517</td>\n",
       "    </tr>\n",
       "    <tr>\n",
       "      <th>26</th>\n",
       "      <td>Technology</td>\n",
       "      <td>middle age</td>\n",
       "      <td>230</td>\n",
       "    </tr>\n",
       "  </tbody>\n",
       "</table>\n",
       "</div>"
      ],
      "text/plain": [
       "           department    age_cats  employee_id\n",
       "0           Analytics        teen           34\n",
       "1           Analytics   young age         1225\n",
       "2           Analytics  middle age           76\n",
       "3             Finance        teen           60\n",
       "4             Finance   young age          554\n",
       "5             Finance  middle age           43\n",
       "6                  HR        teen           64\n",
       "7                  HR   young age          516\n",
       "8                  HR  middle age           93\n",
       "9               Legal        teen            7\n",
       "10              Legal   young age          258\n",
       "11              Legal  middle age           29\n",
       "12         Operations        teen          101\n",
       "13         Operations   young age         2483\n",
       "14         Operations  middle age          422\n",
       "15        Procurement        teen           75\n",
       "16        Procurement   young age         1523\n",
       "17        Procurement  middle age          262\n",
       "18                R&D        teen            2\n",
       "19                R&D   young age          243\n",
       "20                R&D  middle age            5\n",
       "21  Sales & Marketing        teen          169\n",
       "22  Sales & Marketing   young age         3454\n",
       "23  Sales & Marketing  middle age          488\n",
       "24         Technology        teen          133\n",
       "25         Technology   young age         1517\n",
       "26         Technology  middle age          230"
      ]
     },
     "execution_count": 48,
     "metadata": {},
     "output_type": "execute_result"
    }
   ],
   "source": [
    "dfp_age_dep.drop(columns=['index'], axis=1, inplace=True)\n",
    "dfp_age_dep"
   ]
  },
  {
   "cell_type": "code",
   "execution_count": 49,
   "id": "b94b8d18",
   "metadata": {},
   "outputs": [],
   "source": [
    "#sadfsafasdf\n",
    "total = []\n",
    "for i in dfp_age_dep['department']:\n",
    "    a = dfp_age_dep[dfp_age_dep.department == i]['employee_id'].sum()\n",
    "    total.append(a)"
   ]
  },
  {
   "cell_type": "code",
   "execution_count": 50,
   "id": "b4403e8f",
   "metadata": {},
   "outputs": [],
   "source": [
    "dfp_age_dep['total'] = pd.Series(total)"
   ]
  },
  {
   "cell_type": "code",
   "execution_count": 51,
   "id": "f555c830",
   "metadata": {},
   "outputs": [],
   "source": [
    "dfp_age_dep['percent'] = round(dfp_age_dep['employee_id']/dfp_age_dep['total']*100,2)"
   ]
  },
  {
   "cell_type": "code",
   "execution_count": 52,
   "id": "ab2d5cc2",
   "metadata": {},
   "outputs": [
    {
     "data": {
      "text/html": [
       "<div>\n",
       "<style scoped>\n",
       "    .dataframe tbody tr th:only-of-type {\n",
       "        vertical-align: middle;\n",
       "    }\n",
       "\n",
       "    .dataframe tbody tr th {\n",
       "        vertical-align: top;\n",
       "    }\n",
       "\n",
       "    .dataframe thead th {\n",
       "        text-align: right;\n",
       "    }\n",
       "</style>\n",
       "<table border=\"1\" class=\"dataframe\">\n",
       "  <thead>\n",
       "    <tr style=\"text-align: right;\">\n",
       "      <th></th>\n",
       "      <th>department</th>\n",
       "      <th>age_cats</th>\n",
       "      <th>employee_id</th>\n",
       "      <th>total</th>\n",
       "      <th>percent</th>\n",
       "    </tr>\n",
       "  </thead>\n",
       "  <tbody>\n",
       "    <tr>\n",
       "      <th>0</th>\n",
       "      <td>Analytics</td>\n",
       "      <td>teen</td>\n",
       "      <td>34</td>\n",
       "      <td>1335</td>\n",
       "      <td>2.55</td>\n",
       "    </tr>\n",
       "    <tr>\n",
       "      <th>1</th>\n",
       "      <td>Analytics</td>\n",
       "      <td>young age</td>\n",
       "      <td>1225</td>\n",
       "      <td>1335</td>\n",
       "      <td>91.76</td>\n",
       "    </tr>\n",
       "    <tr>\n",
       "      <th>2</th>\n",
       "      <td>Analytics</td>\n",
       "      <td>middle age</td>\n",
       "      <td>76</td>\n",
       "      <td>1335</td>\n",
       "      <td>5.69</td>\n",
       "    </tr>\n",
       "    <tr>\n",
       "      <th>3</th>\n",
       "      <td>Finance</td>\n",
       "      <td>teen</td>\n",
       "      <td>60</td>\n",
       "      <td>657</td>\n",
       "      <td>9.13</td>\n",
       "    </tr>\n",
       "    <tr>\n",
       "      <th>4</th>\n",
       "      <td>Finance</td>\n",
       "      <td>young age</td>\n",
       "      <td>554</td>\n",
       "      <td>657</td>\n",
       "      <td>84.32</td>\n",
       "    </tr>\n",
       "  </tbody>\n",
       "</table>\n",
       "</div>"
      ],
      "text/plain": [
       "  department    age_cats  employee_id  total  percent\n",
       "0  Analytics        teen           34   1335     2.55\n",
       "1  Analytics   young age         1225   1335    91.76\n",
       "2  Analytics  middle age           76   1335     5.69\n",
       "3    Finance        teen           60    657     9.13\n",
       "4    Finance   young age          554    657    84.32"
      ]
     },
     "execution_count": 52,
     "metadata": {},
     "output_type": "execute_result"
    }
   ],
   "source": [
    "dfp_age_dep.head()"
   ]
  },
  {
   "cell_type": "code",
   "execution_count": 53,
   "id": "3f5fcd3f",
   "metadata": {
    "scrolled": true
   },
   "outputs": [
    {
     "data": {
      "text/plain": [
       "Text(0.5, 0, 'Departement')"
      ]
     },
     "execution_count": 53,
     "metadata": {},
     "output_type": "execute_result"
    },
    {
     "data": {
      "image/png": "[encoded data removed]",
      "text/plain": [
       "<Figure size 1280x480 with 1 Axes>"
      ]
     },
     "metadata": {},
     "output_type": "display_data"
    }
   ],
   "source": [
    "plt.rcdefaults()\n",
    "figure(figsize=(16, 6), dpi=80)\n",
    "\n",
    "ax1 = sns.barplot(x='department',y='percent',data=dfp_age_dep, hue='age_cats')\n",
    "ax1.bar_label(ax1.containers[0])\n",
    "ax1.bar_label(ax1.containers[1])\n",
    "ax1.bar_label(ax1.containers[2])\n",
    "#ax.set_ylim(0,90)\n",
    "plt.legend()\n",
    "plt.ylabel('Percentage')\n",
    "plt.xlabel('Departement')\n",
    "#plt.title('Comparison of Employee by Age per Departement (%)', fontsize=16)"
   ]
  },
  {
   "cell_type": "markdown",
   "id": "ca7d28d0",
   "metadata": {},
   "source": [
    "**Conc =** \n",
    "- Generaly All departements have composition age cats are good. Young Age take domination which are they can give contribution of newa idea. But it has to be managed because these young age will become middle age and the middle age will become eldery.\n",
    "- R&D as a division who need to be more up to date is taking the most young age composition, 97.2%."
   ]
  },
  {
   "cell_type": "code",
   "execution_count": null,
   "id": "1d2f052f",
   "metadata": {},
   "outputs": [],
   "source": []
  },
  {
   "cell_type": "code",
   "execution_count": 54,
   "id": "51feb55e",
   "metadata": {},
   "outputs": [
    {
     "data": {
      "text/html": [
       "<div>\n",
       "<style scoped>\n",
       "    .dataframe tbody tr th:only-of-type {\n",
       "        vertical-align: middle;\n",
       "    }\n",
       "\n",
       "    .dataframe tbody tr th {\n",
       "        vertical-align: top;\n",
       "    }\n",
       "\n",
       "    .dataframe thead th {\n",
       "        text-align: right;\n",
       "    }\n",
       "</style>\n",
       "<table border=\"1\" class=\"dataframe\">\n",
       "  <thead>\n",
       "    <tr style=\"text-align: right;\">\n",
       "      <th></th>\n",
       "      <th>employee_id</th>\n",
       "      <th>department</th>\n",
       "      <th>region</th>\n",
       "      <th>education</th>\n",
       "      <th>gender</th>\n",
       "      <th>recruitment_channel</th>\n",
       "      <th>no_of_trainings</th>\n",
       "      <th>age</th>\n",
       "      <th>previous_year_rating</th>\n",
       "      <th>length_of_service</th>\n",
       "      <th>awards_won</th>\n",
       "      <th>avg_training_score</th>\n",
       "      <th>age_cats</th>\n",
       "    </tr>\n",
       "  </thead>\n",
       "  <tbody>\n",
       "    <tr>\n",
       "      <th>0</th>\n",
       "      <td>3387</td>\n",
       "      <td>Procurement</td>\n",
       "      <td>region_15</td>\n",
       "      <td>Bachelor's</td>\n",
       "      <td>f</td>\n",
       "      <td>other</td>\n",
       "      <td>1</td>\n",
       "      <td>36</td>\n",
       "      <td>3.0</td>\n",
       "      <td>3</td>\n",
       "      <td>0</td>\n",
       "      <td>69</td>\n",
       "      <td>young age</td>\n",
       "    </tr>\n",
       "    <tr>\n",
       "      <th>1</th>\n",
       "      <td>67479</td>\n",
       "      <td>Sales &amp; Marketing</td>\n",
       "      <td>region_7</td>\n",
       "      <td>Bachelor's</td>\n",
       "      <td>m</td>\n",
       "      <td>sourcing</td>\n",
       "      <td>2</td>\n",
       "      <td>31</td>\n",
       "      <td>5.0</td>\n",
       "      <td>4</td>\n",
       "      <td>0</td>\n",
       "      <td>51</td>\n",
       "      <td>young age</td>\n",
       "    </tr>\n",
       "    <tr>\n",
       "      <th>2</th>\n",
       "      <td>8070</td>\n",
       "      <td>Operations</td>\n",
       "      <td>region_13</td>\n",
       "      <td>Bachelor's</td>\n",
       "      <td>f</td>\n",
       "      <td>sourcing</td>\n",
       "      <td>1</td>\n",
       "      <td>40</td>\n",
       "      <td>3.0</td>\n",
       "      <td>13</td>\n",
       "      <td>0</td>\n",
       "      <td>63</td>\n",
       "      <td>young age</td>\n",
       "    </tr>\n",
       "    <tr>\n",
       "      <th>3</th>\n",
       "      <td>46497</td>\n",
       "      <td>Analytics</td>\n",
       "      <td>region_26</td>\n",
       "      <td>Bachelor's</td>\n",
       "      <td>m</td>\n",
       "      <td>other</td>\n",
       "      <td>1</td>\n",
       "      <td>31</td>\n",
       "      <td>1.0</td>\n",
       "      <td>4</td>\n",
       "      <td>0</td>\n",
       "      <td>85</td>\n",
       "      <td>young age</td>\n",
       "    </tr>\n",
       "    <tr>\n",
       "      <th>4</th>\n",
       "      <td>54990</td>\n",
       "      <td>Operations</td>\n",
       "      <td>region_28</td>\n",
       "      <td>Bachelor's</td>\n",
       "      <td>m</td>\n",
       "      <td>sourcing</td>\n",
       "      <td>1</td>\n",
       "      <td>24</td>\n",
       "      <td>3.0</td>\n",
       "      <td>1</td>\n",
       "      <td>0</td>\n",
       "      <td>55</td>\n",
       "      <td>teen</td>\n",
       "    </tr>\n",
       "  </tbody>\n",
       "</table>\n",
       "</div>"
      ],
      "text/plain": [
       "   employee_id         department     region   education gender  \\\n",
       "0         3387        Procurement  region_15  Bachelor's      f   \n",
       "1        67479  Sales & Marketing   region_7  Bachelor's      m   \n",
       "2         8070         Operations  region_13  Bachelor's      f   \n",
       "3        46497          Analytics  region_26  Bachelor's      m   \n",
       "4        54990         Operations  region_28  Bachelor's      m   \n",
       "\n",
       "  recruitment_channel  no_of_trainings  age  previous_year_rating  \\\n",
       "0               other                1   36                   3.0   \n",
       "1            sourcing                2   31                   5.0   \n",
       "2            sourcing                1   40                   3.0   \n",
       "3               other                1   31                   1.0   \n",
       "4            sourcing                1   24                   3.0   \n",
       "\n",
       "   length_of_service  awards_won  avg_training_score   age_cats  \n",
       "0                  3           0                  69  young age  \n",
       "1                  4           0                  51  young age  \n",
       "2                 13           0                  63  young age  \n",
       "3                  4           0                  85  young age  \n",
       "4                  1           0                  55       teen  "
      ]
     },
     "execution_count": 54,
     "metadata": {},
     "output_type": "execute_result"
    }
   ],
   "source": [
    "dfp.head()"
   ]
  },
  {
   "cell_type": "code",
   "execution_count": 55,
   "id": "ed03e268",
   "metadata": {},
   "outputs": [
    {
     "data": {
      "text/html": [
       "<div>\n",
       "<style scoped>\n",
       "    .dataframe tbody tr th:only-of-type {\n",
       "        vertical-align: middle;\n",
       "    }\n",
       "\n",
       "    .dataframe tbody tr th {\n",
       "        vertical-align: top;\n",
       "    }\n",
       "\n",
       "    .dataframe thead th {\n",
       "        text-align: right;\n",
       "    }\n",
       "</style>\n",
       "<table border=\"1\" class=\"dataframe\">\n",
       "  <thead>\n",
       "    <tr style=\"text-align: right;\">\n",
       "      <th></th>\n",
       "      <th>employee_id</th>\n",
       "    </tr>\n",
       "    <tr>\n",
       "      <th>education</th>\n",
       "      <th></th>\n",
       "    </tr>\n",
       "  </thead>\n",
       "  <tbody>\n",
       "    <tr>\n",
       "      <th>Bachelor's</th>\n",
       "      <td>9843</td>\n",
       "    </tr>\n",
       "    <tr>\n",
       "      <th>Below Secondary</th>\n",
       "      <td>200</td>\n",
       "    </tr>\n",
       "    <tr>\n",
       "      <th>Master's &amp; above</th>\n",
       "      <td>4023</td>\n",
       "    </tr>\n",
       "  </tbody>\n",
       "</table>\n",
       "</div>"
      ],
      "text/plain": [
       "                  employee_id\n",
       "education                    \n",
       "Bachelor's               9843\n",
       "Below Secondary           200\n",
       "Master's & above         4023"
      ]
     },
     "execution_count": 55,
     "metadata": {},
     "output_type": "execute_result"
    }
   ],
   "source": [
    "dfp.groupby('education').agg({'employee_id':'count'})"
   ]
  },
  {
   "cell_type": "code",
   "execution_count": 56,
   "id": "f5b22b32",
   "metadata": {},
   "outputs": [],
   "source": [
    "dfp_ed = dfp.groupby(['department','education']).agg({'employee_id':'count'}).reset_index()\n",
    "dfp_ed.rename(columns={'employee_id':'count'}, inplace=True)\n"
   ]
  },
  {
   "cell_type": "code",
   "execution_count": 57,
   "id": "cf0c4116",
   "metadata": {},
   "outputs": [
    {
     "data": {
      "text/html": [
       "<div>\n",
       "<style scoped>\n",
       "    .dataframe tbody tr th:only-of-type {\n",
       "        vertical-align: middle;\n",
       "    }\n",
       "\n",
       "    .dataframe tbody tr th {\n",
       "        vertical-align: top;\n",
       "    }\n",
       "\n",
       "    .dataframe thead th {\n",
       "        text-align: right;\n",
       "    }\n",
       "</style>\n",
       "<table border=\"1\" class=\"dataframe\">\n",
       "  <thead>\n",
       "    <tr style=\"text-align: right;\">\n",
       "      <th></th>\n",
       "      <th>department</th>\n",
       "      <th>education</th>\n",
       "      <th>count</th>\n",
       "    </tr>\n",
       "  </thead>\n",
       "  <tbody>\n",
       "    <tr>\n",
       "      <th>0</th>\n",
       "      <td>Analytics</td>\n",
       "      <td>Bachelor's</td>\n",
       "      <td>1068</td>\n",
       "    </tr>\n",
       "    <tr>\n",
       "      <th>1</th>\n",
       "      <td>Analytics</td>\n",
       "      <td>Master's &amp; above</td>\n",
       "      <td>267</td>\n",
       "    </tr>\n",
       "    <tr>\n",
       "      <th>2</th>\n",
       "      <td>Finance</td>\n",
       "      <td>Bachelor's</td>\n",
       "      <td>493</td>\n",
       "    </tr>\n",
       "    <tr>\n",
       "      <th>3</th>\n",
       "      <td>Finance</td>\n",
       "      <td>Below Secondary</td>\n",
       "      <td>20</td>\n",
       "    </tr>\n",
       "    <tr>\n",
       "      <th>4</th>\n",
       "      <td>Finance</td>\n",
       "      <td>Master's &amp; above</td>\n",
       "      <td>144</td>\n",
       "    </tr>\n",
       "  </tbody>\n",
       "</table>\n",
       "</div>"
      ],
      "text/plain": [
       "  department         education  count\n",
       "0  Analytics        Bachelor's   1068\n",
       "1  Analytics  Master's & above    267\n",
       "2    Finance        Bachelor's    493\n",
       "3    Finance   Below Secondary     20\n",
       "4    Finance  Master's & above    144"
      ]
     },
     "execution_count": 57,
     "metadata": {},
     "output_type": "execute_result"
    }
   ],
   "source": [
    "dfp_ed.head()"
   ]
  },
  {
   "cell_type": "code",
   "execution_count": 58,
   "id": "68bf6863",
   "metadata": {},
   "outputs": [],
   "source": [
    "tot_ed = []\n",
    "for i in dfp_ed['department']:\n",
    "    a = dfp_ed[dfp_ed.department == i]['count'].sum()\n",
    "    tot_ed.append(a)"
   ]
  },
  {
   "cell_type": "code",
   "execution_count": 59,
   "id": "001dbd81",
   "metadata": {},
   "outputs": [],
   "source": [
    "dfp_ed['tot_emp'] = pd.Series(tot_ed)"
   ]
  },
  {
   "cell_type": "code",
   "execution_count": 60,
   "id": "fe320315",
   "metadata": {
    "scrolled": true
   },
   "outputs": [
    {
     "data": {
      "text/html": [
       "<div>\n",
       "<style scoped>\n",
       "    .dataframe tbody tr th:only-of-type {\n",
       "        vertical-align: middle;\n",
       "    }\n",
       "\n",
       "    .dataframe tbody tr th {\n",
       "        vertical-align: top;\n",
       "    }\n",
       "\n",
       "    .dataframe thead th {\n",
       "        text-align: right;\n",
       "    }\n",
       "</style>\n",
       "<table border=\"1\" class=\"dataframe\">\n",
       "  <thead>\n",
       "    <tr style=\"text-align: right;\">\n",
       "      <th></th>\n",
       "      <th>department</th>\n",
       "      <th>education</th>\n",
       "      <th>count</th>\n",
       "      <th>tot_emp</th>\n",
       "      <th>percent</th>\n",
       "    </tr>\n",
       "  </thead>\n",
       "  <tbody>\n",
       "    <tr>\n",
       "      <th>12</th>\n",
       "      <td>Operations</td>\n",
       "      <td>Below Secondary</td>\n",
       "      <td>48</td>\n",
       "      <td>3006</td>\n",
       "      <td>1.60</td>\n",
       "    </tr>\n",
       "    <tr>\n",
       "      <th>21</th>\n",
       "      <td>Technology</td>\n",
       "      <td>Bachelor's</td>\n",
       "      <td>1256</td>\n",
       "      <td>1880</td>\n",
       "      <td>66.81</td>\n",
       "    </tr>\n",
       "    <tr>\n",
       "      <th>15</th>\n",
       "      <td>Procurement</td>\n",
       "      <td>Below Secondary</td>\n",
       "      <td>39</td>\n",
       "      <td>1860</td>\n",
       "      <td>2.10</td>\n",
       "    </tr>\n",
       "    <tr>\n",
       "      <th>18</th>\n",
       "      <td>R&amp;D</td>\n",
       "      <td>Master's &amp; above</td>\n",
       "      <td>107</td>\n",
       "      <td>250</td>\n",
       "      <td>42.80</td>\n",
       "    </tr>\n",
       "    <tr>\n",
       "      <th>8</th>\n",
       "      <td>Legal</td>\n",
       "      <td>Bachelor's</td>\n",
       "      <td>225</td>\n",
       "      <td>294</td>\n",
       "      <td>76.53</td>\n",
       "    </tr>\n",
       "  </tbody>\n",
       "</table>\n",
       "</div>"
      ],
      "text/plain": [
       "     department         education  count  tot_emp  percent\n",
       "12   Operations   Below Secondary     48     3006     1.60\n",
       "21   Technology        Bachelor's   1256     1880    66.81\n",
       "15  Procurement   Below Secondary     39     1860     2.10\n",
       "18          R&D  Master's & above    107      250    42.80\n",
       "8         Legal        Bachelor's    225      294    76.53"
      ]
     },
     "execution_count": 60,
     "metadata": {},
     "output_type": "execute_result"
    }
   ],
   "source": [
    "dfp_ed['percent'] = round(dfp_ed['count']/dfp_ed['tot_emp']*100,2)\n",
    "dfp_ed.sample(5)"
   ]
  },
  {
   "cell_type": "markdown",
   "id": "8ad018e4",
   "metadata": {},
   "source": [
    "### Education "
   ]
  },
  {
   "cell_type": "code",
   "execution_count": 61,
   "id": "f6fe7398",
   "metadata": {},
   "outputs": [
    {
     "data": {
      "text/plain": [
       "Text(0.5, 0, '')"
      ]
     },
     "execution_count": 61,
     "metadata": {},
     "output_type": "execute_result"
    },
    {
     "data": {
      "image/png": "[encoded data removed]",
      "text/plain": [
       "<Figure size 1280x480 with 1 Axes>"
      ]
     },
     "metadata": {},
     "output_type": "display_data"
    }
   ],
   "source": [
    "sns.set(style=\"darkgrid\")\n",
    "figure(figsize=(16, 6), dpi=80)\n",
    "\n",
    "ax1 = sns.barplot(x='department',y='percent',data=dfp_ed, hue='education')\n",
    "ax1.bar_label(ax1.containers[0])\n",
    "ax1.bar_label(ax1.containers[1])\n",
    "ax1.bar_label(ax1.containers[2])\n",
    "ax1.set_ylim(0,100)\n",
    "plt.legend()\n",
    "plt.ylabel('Percentage')\n",
    "plt.xlabel('')\n",
    "#plt.title('Comparison of Education Background per Departement (%)', fontsize=16)"
   ]
  },
  {
   "cell_type": "markdown",
   "id": "ca2d838e",
   "metadata": {},
   "source": [
    "**Conc =**\n",
    "- Selain memiliki karyawan dengan kategori young age terbanyak, R&D memiliki karyawan Master Degree terbanyak dan tidak ada staff mereka yang dibawah S1\n",
    "- Perlu di telusuri lebih dalam kenapa department Legal memiliki staff SMA sederajat paling banyak"
   ]
  },
  {
   "cell_type": "markdown",
   "id": "6f3f039d",
   "metadata": {},
   "source": [
    "### Awards"
   ]
  },
  {
   "cell_type": "code",
   "execution_count": 62,
   "id": "71261734",
   "metadata": {},
   "outputs": [],
   "source": [
    "dfp_awards = dfp.groupby(['department']).agg({'awards_won':'sum'}).reset_index()"
   ]
  },
  {
   "cell_type": "code",
   "execution_count": 63,
   "id": "bfc86661",
   "metadata": {},
   "outputs": [],
   "source": [
    "dfp_awards = dfp_awards.sort_values('awards_won')"
   ]
  },
  {
   "cell_type": "code",
   "execution_count": 64,
   "id": "b853771a",
   "metadata": {},
   "outputs": [
    {
     "name": "stderr",
     "output_type": "stream",
     "text": [
      "No artists with labels found to put in legend.  Note that artists whose label start with an underscore are ignored when legend() is called with no argument.\n"
     ]
    },
    {
     "data": {
      "text/plain": [
       "Text(0.5, 1.0, 'Comparison Awards per Departement')"
      ]
     },
     "execution_count": 64,
     "metadata": {},
     "output_type": "execute_result"
    },
    {
     "data": {
      "image/png": "[encoded data removed]",
      "text/plain": [
       "<Figure size 1040x480 with 1 Axes>"
      ]
     },
     "metadata": {},
     "output_type": "display_data"
    }
   ],
   "source": [
    "sns.set(style=\"darkgrid\")\n",
    "figure(figsize=(13, 6), dpi=80)\n",
    "\n",
    "ax1 = sns.barplot(x='department',y='awards_won',data=dfp_awards)\n",
    "ax1.bar_label(ax1.containers[0])\n",
    "ax1.set_ylim(0,100)\n",
    "plt.legend()\n",
    "plt.ylabel('sum of awards')\n",
    "plt.xlabel('')\n",
    "plt.title('Comparison Awards per Departement', fontsize=16)"
   ]
  },
  {
   "cell_type": "markdown",
   "id": "614fd977",
   "metadata": {},
   "source": [
    "**Conc =**\n",
    "- Sales Marketing is the best division and the second is Operation. If the awards is related to their KPI, it means the company is in good revenue.\n",
    "- Even R&D is filled by Young Age and Master's Degree, they only have 4 awards."
   ]
  },
  {
   "cell_type": "markdown",
   "id": "21deb468",
   "metadata": {},
   "source": [
    "## Data Preparation Before Modelling"
   ]
  },
  {
   "cell_type": "code",
   "execution_count": 65,
   "id": "eb7bfc39",
   "metadata": {
    "scrolled": true
   },
   "outputs": [
    {
     "data": {
      "text/html": [
       "<div>\n",
       "<style scoped>\n",
       "    .dataframe tbody tr th:only-of-type {\n",
       "        vertical-align: middle;\n",
       "    }\n",
       "\n",
       "    .dataframe tbody tr th {\n",
       "        vertical-align: top;\n",
       "    }\n",
       "\n",
       "    .dataframe thead th {\n",
       "        text-align: right;\n",
       "    }\n",
       "</style>\n",
       "<table border=\"1\" class=\"dataframe\">\n",
       "  <thead>\n",
       "    <tr style=\"text-align: right;\">\n",
       "      <th></th>\n",
       "      <th>education</th>\n",
       "      <th>gender</th>\n",
       "    </tr>\n",
       "  </thead>\n",
       "  <tbody>\n",
       "    <tr>\n",
       "      <th>18599</th>\n",
       "      <td>Bachelor's</td>\n",
       "      <td>m</td>\n",
       "    </tr>\n",
       "    <tr>\n",
       "      <th>1190</th>\n",
       "      <td>Bachelor's</td>\n",
       "      <td>m</td>\n",
       "    </tr>\n",
       "    <tr>\n",
       "      <th>38026</th>\n",
       "      <td>Bachelor's</td>\n",
       "      <td>m</td>\n",
       "    </tr>\n",
       "    <tr>\n",
       "      <th>34</th>\n",
       "      <td>Master's &amp; above</td>\n",
       "      <td>f</td>\n",
       "    </tr>\n",
       "    <tr>\n",
       "      <th>14894</th>\n",
       "      <td>Bachelor's</td>\n",
       "      <td>m</td>\n",
       "    </tr>\n",
       "  </tbody>\n",
       "</table>\n",
       "</div>"
      ],
      "text/plain": [
       "              education gender\n",
       "18599        Bachelor's      m\n",
       "1190         Bachelor's      m\n",
       "38026        Bachelor's      m\n",
       "34     Master's & above      f\n",
       "14894        Bachelor's      m"
      ]
     },
     "execution_count": 65,
     "metadata": {},
     "output_type": "execute_result"
    }
   ],
   "source": [
    "dft[['education','gender']].sample(5)"
   ]
  },
  {
   "cell_type": "code",
   "execution_count": 66,
   "id": "8181f3ea",
   "metadata": {},
   "outputs": [
    {
     "data": {
      "text/plain": [
       "array([\"Bachelor's\", \"Master's & above\", 'Below Secondary'], dtype=object)"
      ]
     },
     "execution_count": 66,
     "metadata": {},
     "output_type": "execute_result"
    }
   ],
   "source": [
    "dft['education'].unique()"
   ]
  },
  {
   "cell_type": "code",
   "execution_count": 67,
   "id": "329faeac",
   "metadata": {},
   "outputs": [
    {
     "data": {
      "text/html": [
       "<div>\n",
       "<style scoped>\n",
       "    .dataframe tbody tr th:only-of-type {\n",
       "        vertical-align: middle;\n",
       "    }\n",
       "\n",
       "    .dataframe tbody tr th {\n",
       "        vertical-align: top;\n",
       "    }\n",
       "\n",
       "    .dataframe thead th {\n",
       "        text-align: right;\n",
       "    }\n",
       "</style>\n",
       "<table border=\"1\" class=\"dataframe\">\n",
       "  <thead>\n",
       "    <tr style=\"text-align: right;\">\n",
       "      <th></th>\n",
       "      <th>employee_id</th>\n",
       "      <th>department</th>\n",
       "      <th>region</th>\n",
       "      <th>education</th>\n",
       "      <th>gender</th>\n",
       "      <th>recruitment_channel</th>\n",
       "      <th>no_of_trainings</th>\n",
       "      <th>age</th>\n",
       "      <th>previous_year_rating</th>\n",
       "      <th>length_of_service</th>\n",
       "      <th>awards_won</th>\n",
       "      <th>avg_training_score</th>\n",
       "      <th>is_promoted</th>\n",
       "    </tr>\n",
       "  </thead>\n",
       "  <tbody>\n",
       "    <tr>\n",
       "      <th>1</th>\n",
       "      <td>39657</td>\n",
       "      <td>Finance</td>\n",
       "      <td>region_29</td>\n",
       "      <td>1</td>\n",
       "      <td>1</td>\n",
       "      <td>other</td>\n",
       "      <td>2</td>\n",
       "      <td>26</td>\n",
       "      <td>3.0</td>\n",
       "      <td>1</td>\n",
       "      <td>0</td>\n",
       "      <td>58</td>\n",
       "      <td>0</td>\n",
       "    </tr>\n",
       "    <tr>\n",
       "      <th>2</th>\n",
       "      <td>16937</td>\n",
       "      <td>Operations</td>\n",
       "      <td>region_22</td>\n",
       "      <td>1</td>\n",
       "      <td>0</td>\n",
       "      <td>sourcing</td>\n",
       "      <td>2</td>\n",
       "      <td>29</td>\n",
       "      <td>3.0</td>\n",
       "      <td>1</td>\n",
       "      <td>0</td>\n",
       "      <td>62</td>\n",
       "      <td>0</td>\n",
       "    </tr>\n",
       "    <tr>\n",
       "      <th>3</th>\n",
       "      <td>69661</td>\n",
       "      <td>Analytics</td>\n",
       "      <td>region_4</td>\n",
       "      <td>2</td>\n",
       "      <td>1</td>\n",
       "      <td>other</td>\n",
       "      <td>1</td>\n",
       "      <td>32</td>\n",
       "      <td>4.0</td>\n",
       "      <td>5</td>\n",
       "      <td>0</td>\n",
       "      <td>84</td>\n",
       "      <td>0</td>\n",
       "    </tr>\n",
       "    <tr>\n",
       "      <th>4</th>\n",
       "      <td>11746</td>\n",
       "      <td>Sales &amp; Marketing</td>\n",
       "      <td>region_26</td>\n",
       "      <td>1</td>\n",
       "      <td>0</td>\n",
       "      <td>other</td>\n",
       "      <td>1</td>\n",
       "      <td>31</td>\n",
       "      <td>3.0</td>\n",
       "      <td>5</td>\n",
       "      <td>0</td>\n",
       "      <td>49</td>\n",
       "      <td>0</td>\n",
       "    </tr>\n",
       "    <tr>\n",
       "      <th>5</th>\n",
       "      <td>45506</td>\n",
       "      <td>Sales &amp; Marketing</td>\n",
       "      <td>region_13</td>\n",
       "      <td>2</td>\n",
       "      <td>1</td>\n",
       "      <td>other</td>\n",
       "      <td>1</td>\n",
       "      <td>42</td>\n",
       "      <td>3.0</td>\n",
       "      <td>12</td>\n",
       "      <td>0</td>\n",
       "      <td>53</td>\n",
       "      <td>0</td>\n",
       "    </tr>\n",
       "  </tbody>\n",
       "</table>\n",
       "</div>"
      ],
      "text/plain": [
       "   employee_id         department     region  education  gender  \\\n",
       "1        39657            Finance  region_29          1       1   \n",
       "2        16937         Operations  region_22          1       0   \n",
       "3        69661          Analytics   region_4          2       1   \n",
       "4        11746  Sales & Marketing  region_26          1       0   \n",
       "5        45506  Sales & Marketing  region_13          2       1   \n",
       "\n",
       "  recruitment_channel  no_of_trainings  age  previous_year_rating  \\\n",
       "1               other                2   26                   3.0   \n",
       "2            sourcing                2   29                   3.0   \n",
       "3               other                1   32                   4.0   \n",
       "4               other                1   31                   3.0   \n",
       "5               other                1   42                   3.0   \n",
       "\n",
       "   length_of_service  awards_won  avg_training_score  is_promoted  \n",
       "1                  1           0                  58            0  \n",
       "2                  1           0                  62            0  \n",
       "3                  5           0                  84            0  \n",
       "4                  5           0                  49            0  \n",
       "5                 12           0                  53            0  "
      ]
     },
     "execution_count": 67,
     "metadata": {},
     "output_type": "execute_result"
    }
   ],
   "source": [
    "mapping_gender = {\n",
    "    'f' : 0,\n",
    "    'm' : 1\n",
    "}\n",
    "mapping_education = {\n",
    "    'Below Secondary' : 0,\n",
    "    \"Bachelor's\" : 1,\n",
    "    \"Master's & above\" : 2\n",
    "}\n",
    "\n",
    "dft['gender'] = dft['gender'].map(mapping_gender)\n",
    "dft['education'] = dft['education'].map(mapping_education)\n",
    "dft.head()"
   ]
  },
  {
   "cell_type": "code",
   "execution_count": 68,
   "id": "398ff0bf",
   "metadata": {},
   "outputs": [
    {
     "data": {
      "text/plain": [
       "<AxesSubplot:>"
      ]
     },
     "execution_count": 68,
     "metadata": {},
     "output_type": "execute_result"
    },
    {
     "data": {
      "image/png": "[encoded data removed]",
      "text/plain": [
       "<Figure size 640x480 with 2 Axes>"
      ]
     },
     "metadata": {},
     "output_type": "display_data"
    }
   ],
   "source": [
    "sns.heatmap(dft.corr(), cmap='Blues', annot=True, fmt='.2f')"
   ]
  },
  {
   "cell_type": "markdown",
   "id": "776a7bd8",
   "metadata": {},
   "source": [
    "## Feature Selection"
   ]
  },
  {
   "cell_type": "code",
   "execution_count": 69,
   "id": "007cc921",
   "metadata": {},
   "outputs": [
    {
     "data": {
      "text/plain": [
       "Index(['employee_id', 'department', 'region', 'education', 'gender',\n",
       "       'recruitment_channel', 'no_of_trainings', 'age', 'previous_year_rating',\n",
       "       'length_of_service', 'awards_won', 'avg_training_score', 'is_promoted'],\n",
       "      dtype='object')"
      ]
     },
     "execution_count": 69,
     "metadata": {},
     "output_type": "execute_result"
    }
   ],
   "source": [
    "dft.columns"
   ]
  },
  {
   "cell_type": "code",
   "execution_count": 70,
   "id": "d0ad56c1",
   "metadata": {},
   "outputs": [],
   "source": [
    "nums = ['education','gender','no_of_trainings','age','previous_year_rating','length_of_service',\n",
    "        'awards_won','avg_training_score','is_promoted']\n",
    "cats = ['department','region','recruitment_channel']"
   ]
  },
  {
   "cell_type": "code",
   "execution_count": 71,
   "id": "a6db4cf1",
   "metadata": {},
   "outputs": [
    {
     "data": {
      "text/plain": [
       "0    34980\n",
       "1     3352\n",
       "Name: is_promoted, dtype: int64"
      ]
     },
     "execution_count": 71,
     "metadata": {},
     "output_type": "execute_result"
    }
   ],
   "source": [
    "dft['is_promoted'].value_counts()"
   ]
  },
  {
   "cell_type": "code",
   "execution_count": 72,
   "id": "51711099",
   "metadata": {
    "scrolled": true
   },
   "outputs": [
    {
     "data": {
      "text/plain": [
       "8.744651987895232"
      ]
     },
     "execution_count": 72,
     "metadata": {},
     "output_type": "execute_result"
    }
   ],
   "source": [
    "3352/dft['is_promoted'].count()*100"
   ]
  },
  {
   "cell_type": "markdown",
   "id": "71cae25d",
   "metadata": {},
   "source": [
    "**Conc =**\n",
    "The data is very unbalance. Data employee that promoted is only 8.74%. So we need handle this."
   ]
  },
  {
   "cell_type": "markdown",
   "id": "e49aefdb",
   "metadata": {},
   "source": [
    "### Split the Data"
   ]
  },
  {
   "cell_type": "markdown",
   "id": "b8b8fc4e",
   "metadata": {},
   "source": [
    "We split the data first before oversampling to keep data test still original."
   ]
  },
  {
   "cell_type": "code",
   "execution_count": 73,
   "id": "3636d60f",
   "metadata": {
    "scrolled": true
   },
   "outputs": [],
   "source": [
    "dft.drop(columns=['employee_id'], inplace=True)"
   ]
  },
  {
   "cell_type": "code",
   "execution_count": 74,
   "id": "e599f217",
   "metadata": {},
   "outputs": [
    {
     "name": "stdout",
     "output_type": "stream",
     "text": [
      "<class 'pandas.core.frame.DataFrame'>\n",
      "Int64Index: 38332 entries, 1 to 40099\n",
      "Data columns (total 12 columns):\n",
      " #   Column                Non-Null Count  Dtype  \n",
      "---  ------                --------------  -----  \n",
      " 0   department            38332 non-null  object \n",
      " 1   region                38332 non-null  object \n",
      " 2   education             38332 non-null  int64  \n",
      " 3   gender                38332 non-null  int64  \n",
      " 4   recruitment_channel   38332 non-null  object \n",
      " 5   no_of_trainings       38332 non-null  int64  \n",
      " 6   age                   38332 non-null  int64  \n",
      " 7   previous_year_rating  38332 non-null  float64\n",
      " 8   length_of_service     38332 non-null  int64  \n",
      " 9   awards_won            38332 non-null  int64  \n",
      " 10  avg_training_score    38332 non-null  int64  \n",
      " 11  is_promoted           38332 non-null  int64  \n",
      "dtypes: float64(1), int64(8), object(3)\n",
      "memory usage: 3.8+ MB\n"
     ]
    }
   ],
   "source": [
    "dft.info()"
   ]
  },
  {
   "cell_type": "code",
   "execution_count": null,
   "id": "125eee13",
   "metadata": {},
   "outputs": [],
   "source": []
  },
  {
   "cell_type": "markdown",
   "id": "b6251d44",
   "metadata": {},
   "source": [
    "check cardinality"
   ]
  },
  {
   "cell_type": "code",
   "execution_count": 75,
   "id": "828726df",
   "metadata": {},
   "outputs": [
    {
     "name": "stdout",
     "output_type": "stream",
     "text": [
      "department:\n",
      "9\n",
      "region:\n",
      "34\n",
      "recruitment_channel:\n",
      "3\n"
     ]
    }
   ],
   "source": [
    "for i in dft[cats]:\n",
    "    print(i+':')\n",
    "    print(dft[i].nunique())"
   ]
  },
  {
   "cell_type": "code",
   "execution_count": 76,
   "id": "75af2905",
   "metadata": {},
   "outputs": [],
   "source": [
    "X = dft[nums].drop(columns=['is_promoted'])\n",
    "y = dft['is_promoted']"
   ]
  },
  {
   "cell_type": "code",
   "execution_count": 77,
   "id": "27a70fb7",
   "metadata": {
    "scrolled": true
   },
   "outputs": [],
   "source": [
    "from sklearn.model_selection import train_test_split\n",
    "X_train, X_test, y_train, y_test = train_test_split(X, y, test_size = 0.2, train_size = 0.8, random_state = 42)"
   ]
  },
  {
   "cell_type": "markdown",
   "id": "de59aba2",
   "metadata": {},
   "source": [
    "**Feature selection with Chi Square Test**"
   ]
  },
  {
   "cell_type": "code",
   "execution_count": 78,
   "id": "83b65311",
   "metadata": {},
   "outputs": [],
   "source": [
    "from sklearn.feature_selection import SelectKBest\n",
    "from sklearn.feature_selection import chi2\n",
    "\n",
    "chi2_selector = SelectKBest(chi2, k=4) \n",
    "chi2_selector.fit(X_train, y_train)\n",
    "\n",
    "cols = chi2_selector.get_support(indices=True)\n",
    "df_selected_features = X_train.iloc[:,cols]"
   ]
  },
  {
   "cell_type": "code",
   "execution_count": 79,
   "id": "cfd2b078",
   "metadata": {},
   "outputs": [
    {
     "data": {
      "text/plain": [
       "Index(['age', 'previous_year_rating', 'awards_won', 'avg_training_score'], dtype='object')"
      ]
     },
     "execution_count": 79,
     "metadata": {},
     "output_type": "execute_result"
    }
   ],
   "source": [
    "df_selected_features.columns"
   ]
  },
  {
   "cell_type": "markdown",
   "id": "890f4595",
   "metadata": {},
   "source": [
    "**Feature selection with RFE**"
   ]
  },
  {
   "cell_type": "code",
   "execution_count": 80,
   "id": "07147da7",
   "metadata": {},
   "outputs": [
    {
     "name": "stdout",
     "output_type": "stream",
     "text": [
      "[ True False False False  True False  True False]\n"
     ]
    }
   ],
   "source": [
    "from sklearn.datasets import make_classification\n",
    "from sklearn.feature_selection import RFE\n",
    "from sklearn.linear_model import LogisticRegression\n",
    "\n",
    "# Create a logistic regression model\n",
    "model = LogisticRegression()\n",
    "\n",
    "# Create the RFE object and select 3 attributes\n",
    "#rfe = RFE(model, 3)\n",
    "rfe = RFE(estimator=model, n_features_to_select=3)\n",
    "rfe = rfe.fit(X_train, y_train)\n",
    "\n",
    "# Print the selected features\n",
    "print(rfe.support_)"
   ]
  },
  {
   "cell_type": "code",
   "execution_count": 81,
   "id": "626c8fa7",
   "metadata": {
    "scrolled": true
   },
   "outputs": [
    {
     "data": {
      "text/plain": [
       "Index(['education', 'gender', 'no_of_trainings', 'age', 'previous_year_rating',\n",
       "       'length_of_service', 'awards_won', 'avg_training_score'],\n",
       "      dtype='object')"
      ]
     },
     "execution_count": 81,
     "metadata": {},
     "output_type": "execute_result"
    }
   ],
   "source": [
    "X_train.columns"
   ]
  },
  {
   "cell_type": "code",
   "execution_count": null,
   "id": "3384626c",
   "metadata": {},
   "outputs": [],
   "source": []
  },
  {
   "cell_type": "markdown",
   "id": "34f6fac2",
   "metadata": {},
   "source": [
    "**Feature selection with KBest**"
   ]
  },
  {
   "cell_type": "code",
   "execution_count": 82,
   "id": "ffc8619a",
   "metadata": {},
   "outputs": [
    {
     "name": "stdout",
     "output_type": "stream",
     "text": [
      "Test score: 0.914\n"
     ]
    }
   ],
   "source": [
    "from sklearn.datasets import make_classification\n",
    "from sklearn.feature_selection import SelectKBest\n",
    "from sklearn.linear_model import LogisticRegression\n",
    "from sklearn.model_selection import train_test_split\n",
    "\n",
    "# Create the feature selector\n",
    "selector = SelectKBest(k=3)\n",
    "# Fit the feature selector to the training data\n",
    "selector.fit(X_train, y_train)\n",
    "# Transform the training and test sets\n",
    "X_train_selected = selector.transform(X_train)\n",
    "X_test_selected = selector.transform(X_test)\n",
    "# Create a logistic regression model\n",
    "model = LogisticRegression()\n",
    "# fit the model on the selected features\n",
    "model.fit(X_train_selected, y_train)\n",
    "# evaluate the performance on the test set\n",
    "score = model.score(X_test_selected, y_test)\n",
    "print(f\"Test score: {score:.3f}\")\n"
   ]
  },
  {
   "cell_type": "code",
   "execution_count": 83,
   "id": "03691524",
   "metadata": {
    "scrolled": true
   },
   "outputs": [
    {
     "data": {
      "text/plain": [
       "array([  25.18508376,    1.826735  ,   18.53439178,    7.64770447,\n",
       "        769.75879844,    3.53786423, 1165.82729729, 1108.86819869])"
      ]
     },
     "execution_count": 83,
     "metadata": {},
     "output_type": "execute_result"
    }
   ],
   "source": [
    "selector.scores_"
   ]
  },
  {
   "cell_type": "code",
   "execution_count": 84,
   "id": "6f4a4632",
   "metadata": {
    "scrolled": true
   },
   "outputs": [
    {
     "data": {
      "text/plain": [
       "Index(['education', 'gender', 'no_of_trainings', 'age', 'previous_year_rating',\n",
       "       'length_of_service', 'awards_won', 'avg_training_score'],\n",
       "      dtype='object')"
      ]
     },
     "execution_count": 84,
     "metadata": {},
     "output_type": "execute_result"
    }
   ],
   "source": [
    "X_train.columns"
   ]
  },
  {
   "cell_type": "code",
   "execution_count": 85,
   "id": "1bd166d9",
   "metadata": {},
   "outputs": [
    {
     "data": {
      "text/plain": [
       "Index(['department', 'region', 'education', 'gender', 'recruitment_channel',\n",
       "       'no_of_trainings', 'age', 'previous_year_rating', 'length_of_service',\n",
       "       'awards_won', 'avg_training_score', 'is_promoted'],\n",
       "      dtype='object')"
      ]
     },
     "execution_count": 85,
     "metadata": {},
     "output_type": "execute_result"
    }
   ],
   "source": [
    "dft.columns"
   ]
  },
  {
   "cell_type": "code",
   "execution_count": 86,
   "id": "32af8dad",
   "metadata": {},
   "outputs": [],
   "source": [
    "fs = pd.DataFrame()"
   ]
  },
  {
   "cell_type": "code",
   "execution_count": 87,
   "id": "e80f886b",
   "metadata": {},
   "outputs": [],
   "source": [
    "fs['cols'] = X_test.columns"
   ]
  },
  {
   "cell_type": "code",
   "execution_count": 88,
   "id": "257f8163",
   "metadata": {},
   "outputs": [
    {
     "data": {
      "text/html": [
       "<div>\n",
       "<style scoped>\n",
       "    .dataframe tbody tr th:only-of-type {\n",
       "        vertical-align: middle;\n",
       "    }\n",
       "\n",
       "    .dataframe tbody tr th {\n",
       "        vertical-align: top;\n",
       "    }\n",
       "\n",
       "    .dataframe thead th {\n",
       "        text-align: right;\n",
       "    }\n",
       "</style>\n",
       "<table border=\"1\" class=\"dataframe\">\n",
       "  <thead>\n",
       "    <tr style=\"text-align: right;\">\n",
       "      <th></th>\n",
       "      <th>cols</th>\n",
       "    </tr>\n",
       "  </thead>\n",
       "  <tbody>\n",
       "    <tr>\n",
       "      <th>0</th>\n",
       "      <td>education</td>\n",
       "    </tr>\n",
       "    <tr>\n",
       "      <th>1</th>\n",
       "      <td>gender</td>\n",
       "    </tr>\n",
       "    <tr>\n",
       "      <th>2</th>\n",
       "      <td>no_of_trainings</td>\n",
       "    </tr>\n",
       "    <tr>\n",
       "      <th>3</th>\n",
       "      <td>age</td>\n",
       "    </tr>\n",
       "    <tr>\n",
       "      <th>4</th>\n",
       "      <td>previous_year_rating</td>\n",
       "    </tr>\n",
       "    <tr>\n",
       "      <th>5</th>\n",
       "      <td>length_of_service</td>\n",
       "    </tr>\n",
       "    <tr>\n",
       "      <th>6</th>\n",
       "      <td>awards_won</td>\n",
       "    </tr>\n",
       "    <tr>\n",
       "      <th>7</th>\n",
       "      <td>avg_training_score</td>\n",
       "    </tr>\n",
       "  </tbody>\n",
       "</table>\n",
       "</div>"
      ],
      "text/plain": [
       "                   cols\n",
       "0             education\n",
       "1                gender\n",
       "2       no_of_trainings\n",
       "3                   age\n",
       "4  previous_year_rating\n",
       "5     length_of_service\n",
       "6            awards_won\n",
       "7    avg_training_score"
      ]
     },
     "execution_count": 88,
     "metadata": {},
     "output_type": "execute_result"
    }
   ],
   "source": [
    "fs"
   ]
  },
  {
   "cell_type": "code",
   "execution_count": 89,
   "id": "96563bc8",
   "metadata": {
    "scrolled": true
   },
   "outputs": [
    {
     "data": {
      "text/plain": [
       "array([  25.18508376,    1.826735  ,   18.53439178,    7.64770447,\n",
       "        769.75879844,    3.53786423, 1165.82729729, 1108.86819869])"
      ]
     },
     "execution_count": 89,
     "metadata": {},
     "output_type": "execute_result"
    }
   ],
   "source": [
    "selector.scores_"
   ]
  },
  {
   "cell_type": "code",
   "execution_count": null,
   "id": "6475ab9e",
   "metadata": {},
   "outputs": [],
   "source": []
  },
  {
   "cell_type": "markdown",
   "id": "2d7fbc86",
   "metadata": {},
   "source": [
    "**Conc=**\n",
    "\n",
    "We use KBest. The reason is very relate what we think about these features. We choose 3 features, previous_year_rating, awards_won, avg_training_score.\n",
    "\n",
    "Beside this, I believe that performance is not related from educational background, gender, age and length of service."
   ]
  },
  {
   "cell_type": "code",
   "execution_count": 90,
   "id": "3730cd89",
   "metadata": {},
   "outputs": [],
   "source": [
    "selected_cols = ['previous_year_rating','awards_won','avg_training_score']"
   ]
  },
  {
   "cell_type": "code",
   "execution_count": 91,
   "id": "3a1dca03",
   "metadata": {},
   "outputs": [],
   "source": [
    "X_train = X_train[selected_cols]\n",
    "X_test = X_test[selected_cols]"
   ]
  },
  {
   "cell_type": "code",
   "execution_count": 92,
   "id": "838cec88",
   "metadata": {},
   "outputs": [
    {
     "data": {
      "text/html": [
       "<div>\n",
       "<style scoped>\n",
       "    .dataframe tbody tr th:only-of-type {\n",
       "        vertical-align: middle;\n",
       "    }\n",
       "\n",
       "    .dataframe tbody tr th {\n",
       "        vertical-align: top;\n",
       "    }\n",
       "\n",
       "    .dataframe thead th {\n",
       "        text-align: right;\n",
       "    }\n",
       "</style>\n",
       "<table border=\"1\" class=\"dataframe\">\n",
       "  <thead>\n",
       "    <tr style=\"text-align: right;\">\n",
       "      <th></th>\n",
       "      <th>previous_year_rating</th>\n",
       "      <th>awards_won</th>\n",
       "      <th>avg_training_score</th>\n",
       "    </tr>\n",
       "  </thead>\n",
       "  <tbody>\n",
       "    <tr>\n",
       "      <th>38203</th>\n",
       "      <td>4.0</td>\n",
       "      <td>0</td>\n",
       "      <td>59</td>\n",
       "    </tr>\n",
       "    <tr>\n",
       "      <th>39260</th>\n",
       "      <td>3.0</td>\n",
       "      <td>0</td>\n",
       "      <td>59</td>\n",
       "    </tr>\n",
       "    <tr>\n",
       "      <th>21640</th>\n",
       "      <td>5.0</td>\n",
       "      <td>0</td>\n",
       "      <td>83</td>\n",
       "    </tr>\n",
       "    <tr>\n",
       "      <th>25746</th>\n",
       "      <td>2.0</td>\n",
       "      <td>0</td>\n",
       "      <td>76</td>\n",
       "    </tr>\n",
       "    <tr>\n",
       "      <th>34549</th>\n",
       "      <td>4.0</td>\n",
       "      <td>0</td>\n",
       "      <td>48</td>\n",
       "    </tr>\n",
       "  </tbody>\n",
       "</table>\n",
       "</div>"
      ],
      "text/plain": [
       "       previous_year_rating  awards_won  avg_training_score\n",
       "38203                   4.0           0                  59\n",
       "39260                   3.0           0                  59\n",
       "21640                   5.0           0                  83\n",
       "25746                   2.0           0                  76\n",
       "34549                   4.0           0                  48"
      ]
     },
     "execution_count": 92,
     "metadata": {},
     "output_type": "execute_result"
    }
   ],
   "source": [
    "X_train.head()"
   ]
  },
  {
   "cell_type": "markdown",
   "id": "00e74a70",
   "metadata": {},
   "source": [
    "### Standarization"
   ]
  },
  {
   "cell_type": "code",
   "execution_count": 93,
   "id": "70f3a0a7",
   "metadata": {},
   "outputs": [],
   "source": [
    "from sklearn.preprocessing import StandardScaler\n",
    "\n",
    "cols = X_train.columns\n",
    "\n",
    "scaler = StandardScaler().fit(X_train.values)\n",
    "X_train[cols] = scaler.transform(X_train.values)"
   ]
  },
  {
   "cell_type": "code",
   "execution_count": 94,
   "id": "4d4b3294",
   "metadata": {},
   "outputs": [],
   "source": [
    "cols_test = X_test.columns\n",
    "\n",
    "scaler = StandardScaler().fit(X_test.values)\n",
    "X_test[cols_test] = scaler.transform(X_test.values)"
   ]
  },
  {
   "cell_type": "code",
   "execution_count": null,
   "id": "abd35329",
   "metadata": {},
   "outputs": [],
   "source": []
  },
  {
   "cell_type": "markdown",
   "id": "e5f5e271",
   "metadata": {},
   "source": [
    "### Balancing data"
   ]
  },
  {
   "cell_type": "code",
   "execution_count": 95,
   "id": "071c2337",
   "metadata": {},
   "outputs": [
    {
     "data": {
      "text/plain": [
       "0    34980\n",
       "1     3352\n",
       "Name: is_promoted, dtype: int64"
      ]
     },
     "execution_count": 95,
     "metadata": {},
     "output_type": "execute_result"
    }
   ],
   "source": [
    "from sklearn.utils import resample\n",
    "dft.is_promoted.value_counts()"
   ]
  },
  {
   "cell_type": "code",
   "execution_count": 96,
   "id": "e96b073d-a7fe-49ca-98b2-66b4d77eaca3",
   "metadata": {},
   "outputs": [
    {
     "name": "stdout",
     "output_type": "stream",
     "text": [
      "Requirement already satisfied: imbalanced-learn in /opt/conda/lib/python3.7/site-packages (0.10.1)\n",
      "Requirement already satisfied: scikit-learn>=1.0.2 in /opt/conda/lib/python3.7/site-packages (from imbalanced-learn) (1.0.2)\n",
      "Requirement already satisfied: numpy>=1.17.3 in /opt/conda/lib/python3.7/site-packages (from imbalanced-learn) (1.21.6)\n",
      "Requirement already satisfied: joblib>=1.1.1 in /opt/conda/lib/python3.7/site-packages (from imbalanced-learn) (1.2.0)\n",
      "Requirement already satisfied: threadpoolctl>=2.0.0 in /opt/conda/lib/python3.7/site-packages (from imbalanced-learn) (3.1.0)\n",
      "Requirement already satisfied: scipy>=1.3.2 in /opt/conda/lib/python3.7/site-packages (from imbalanced-learn) (1.7.3)\n"
     ]
    }
   ],
   "source": [
    "!pip install imbalanced-learn"
   ]
  },
  {
   "cell_type": "code",
   "execution_count": 97,
   "id": "8eb448cd",
   "metadata": {},
   "outputs": [],
   "source": [
    "from imblearn.over_sampling import SMOTE\n",
    "\n",
    "# instantiate the SMOTE object\n",
    "sm = SMOTE(random_state=42)\n",
    "\n",
    "# oversample the minority class using SMOTE\n",
    "X_smote, y_smote = sm.fit_resample(X_train, y_train)"
   ]
  },
  {
   "cell_type": "code",
   "execution_count": 98,
   "id": "04d3d93b",
   "metadata": {
    "scrolled": true
   },
   "outputs": [
    {
     "data": {
      "text/plain": [
       "0    28007\n",
       "1     2658\n",
       "Name: is_promoted, dtype: int64"
      ]
     },
     "execution_count": 98,
     "metadata": {},
     "output_type": "execute_result"
    }
   ],
   "source": [
    "y_train.value_counts()"
   ]
  },
  {
   "cell_type": "code",
   "execution_count": 99,
   "id": "1fd669bd",
   "metadata": {
    "scrolled": true
   },
   "outputs": [
    {
     "data": {
      "text/plain": [
       "0    28007\n",
       "1    28007\n",
       "Name: is_promoted, dtype: int64"
      ]
     },
     "execution_count": 99,
     "metadata": {},
     "output_type": "execute_result"
    }
   ],
   "source": [
    "y_smote.value_counts()"
   ]
  },
  {
   "cell_type": "code",
   "execution_count": 100,
   "id": "bafbd918",
   "metadata": {
    "scrolled": true
   },
   "outputs": [
    {
     "name": "stdout",
     "output_type": "stream",
     "text": [
      "<class 'pandas.core.frame.DataFrame'>\n",
      "RangeIndex: 56014 entries, 0 to 56013\n",
      "Data columns (total 3 columns):\n",
      " #   Column                Non-Null Count  Dtype  \n",
      "---  ------                --------------  -----  \n",
      " 0   previous_year_rating  56014 non-null  float64\n",
      " 1   awards_won            56014 non-null  float64\n",
      " 2   avg_training_score    56014 non-null  float64\n",
      "dtypes: float64(3)\n",
      "memory usage: 1.3 MB\n"
     ]
    }
   ],
   "source": [
    "X_smote.info()"
   ]
  },
  {
   "cell_type": "code",
   "execution_count": 101,
   "id": "87779f55",
   "metadata": {},
   "outputs": [
    {
     "data": {
      "text/plain": [
       "array([[ 4.,  0., 59.],\n",
       "       [ 3.,  0., 59.],\n",
       "       [ 5.,  0., 83.],\n",
       "       ...,\n",
       "       [ 4.,  0., 64.],\n",
       "       [ 4.,  0., 82.],\n",
       "       [ 4.,  0., 55.]])"
      ]
     },
     "execution_count": 101,
     "metadata": {},
     "output_type": "execute_result"
    }
   ],
   "source": [
    "X_train_selected"
   ]
  },
  {
   "cell_type": "markdown",
   "id": "bfc0b3fd",
   "metadata": {},
   "source": [
    "# Modeling"
   ]
  },
  {
   "cell_type": "code",
   "execution_count": 102,
   "id": "8388772c",
   "metadata": {},
   "outputs": [],
   "source": [
    "from sklearn.linear_model import LogisticRegression\n",
    "from sklearn.neural_network import MLPClassifier\n",
    "from sklearn.neighbors import KNeighborsClassifier\n",
    "from sklearn.svm import SVC\n",
    "from sklearn.ensemble import RandomForestClassifier\n",
    "\n",
    "from sklearn.metrics import accuracy_score, precision_score, recall_score, f1_score, roc_auc_score"
   ]
  },
  {
   "cell_type": "code",
   "execution_count": 103,
   "id": "41414f55",
   "metadata": {},
   "outputs": [],
   "source": [
    "def eval_classification(model, xtrain, ytrain, xtest, ytest):\n",
    "    ypred = model.predict(xtest)\n",
    "    print(\"Accuracy (Test Set): %.2f\" % accuracy_score(ytest, ypred))\n",
    "    print(\"Precision (Test Set): %.2f\" % precision_score(ytest, ypred))\n",
    "    print(\"Recall (Test Set): %.2f\" % recall_score(ytest, ypred))\n",
    "    print(\"F1-Score (Test Set): %.2f\" % f1_score(ytest, ypred))\n",
    "    \n",
    "    y_pred_proba = model.predict_proba(xtest)\n",
    "    print(\"AUC: %.2f\" % roc_auc_score(ytest, y_pred_proba[:, 1]))"
   ]
  },
  {
   "cell_type": "code",
   "execution_count": 104,
   "id": "932e877f",
   "metadata": {},
   "outputs": [
    {
     "name": "stdout",
     "output_type": "stream",
     "text": [
      "Accuracy (Test Set): 0.67\n",
      "Precision (Test Set): 0.16\n",
      "Recall (Test Set): 0.63\n",
      "F1-Score (Test Set): 0.25\n",
      "AUC: 0.72\n"
     ]
    }
   ],
   "source": [
    "# Logistic Regression\n",
    "model_lr = LogisticRegression()\n",
    "model_lr.fit(X_smote, y_smote)\n",
    "y_train_hat = model.predict(X_smote)\n",
    "y_test_hat = model.predict(X_test)\n",
    "\n",
    "eval_classification(model_lr, X_smote, y_smote, X_test, y_test)"
   ]
  },
  {
   "cell_type": "code",
   "execution_count": 105,
   "id": "803d3538",
   "metadata": {},
   "outputs": [
    {
     "name": "stdout",
     "output_type": "stream",
     "text": [
      "Accuracy (Test Set): 0.52\n",
      "Precision (Test Set): 0.12\n",
      "Recall (Test Set): 0.67\n",
      "F1-Score (Test Set): 0.20\n",
      "AUC: 0.62\n"
     ]
    }
   ],
   "source": [
    "# Random Forest\n",
    "model_rf = RandomForestClassifier(n_jobs=-1,random_state=123)\n",
    "model_rf.fit(X_smote, y_smote)\n",
    "y_train_hat = model.predict(X_smote)\n",
    "y_test_hat = model.predict(X_test)\n",
    "\n",
    "eval_classification(model_rf, X_smote, y_smote, X_test, y_test)"
   ]
  },
  {
   "cell_type": "code",
   "execution_count": 106,
   "id": "5931fcb7",
   "metadata": {},
   "outputs": [
    {
     "name": "stdout",
     "output_type": "stream",
     "text": [
      "Accuracy (Test Set): 0.82\n",
      "Precision (Test Set): 0.24\n",
      "Recall (Test Set): 0.47\n",
      "F1-Score (Test Set): 0.32\n",
      "AUC: 0.73\n"
     ]
    }
   ],
   "source": [
    "# Neural nets\n",
    "model_mlpc = MLPClassifier()\n",
    "model_mlpc.fit(X_smote, y_smote)\n",
    "y_train_hat = model.predict(X_smote)\n",
    "y_test_hat = model.predict(X_test)\n",
    "\n",
    "eval_classification(model_mlpc, X_smote, y_smote, X_test, y_test)"
   ]
  },
  {
   "cell_type": "code",
   "execution_count": 107,
   "id": "75e07d21",
   "metadata": {},
   "outputs": [
    {
     "name": "stdout",
     "output_type": "stream",
     "text": [
      "Accuracy (Test Set): 0.20\n",
      "Precision (Test Set): 0.10\n",
      "Recall (Test Set): 0.96\n",
      "F1-Score (Test Set): 0.18\n",
      "AUC: 0.53\n"
     ]
    }
   ],
   "source": [
    "# K-Neighbors\n",
    "model_kn = KNeighborsClassifier()\n",
    "model_kn.fit(X_smote, y_smote)\n",
    "y_train_hat = model.predict(X_smote)\n",
    "y_test_hat = model.predict(X_test)\n",
    "\n",
    "eval_classification(model_kn, X_smote, y_smote, X_test, y_test)"
   ]
  },
  {
   "cell_type": "code",
   "execution_count": 108,
   "id": "25695523-3e2c-4e1f-8a4d-e210f67092a6",
   "metadata": {},
   "outputs": [
    {
     "name": "stdout",
     "output_type": "stream",
     "text": [
      "Accuracy (Test Set): 0.91\n",
      "Precision (Test Set): 0.52\n",
      "Recall (Test Set): 0.13\n",
      "F1-Score (Test Set): 0.21\n",
      "AUC: 0.63\n"
     ]
    }
   ],
   "source": [
    "# K-Neighbors\n",
    "model_kn = KNeighborsClassifier()\n",
    "model_kn.fit(X_train, y_train)\n",
    "y_train_hat = model.predict(X_train)\n",
    "y_test_hat = model.predict(X_test)\n",
    "\n",
    "eval_classification(model_kn, X_train, y_train, X_test, y_test)"
   ]
  },
  {
   "cell_type": "code",
   "execution_count": 109,
   "id": "64793e40-9b8c-4291-a04b-34ea56f2cac4",
   "metadata": {},
   "outputs": [
    {
     "name": "stdout",
     "output_type": "stream",
     "text": [
      "Requirement already satisfied: xgboost in /opt/conda/lib/python3.7/site-packages (1.6.2)\n",
      "Requirement already satisfied: scipy in /opt/conda/lib/python3.7/site-packages (from xgboost) (1.7.3)\n",
      "Requirement already satisfied: numpy in /opt/conda/lib/python3.7/site-packages (from xgboost) (1.21.6)\n"
     ]
    }
   ],
   "source": [
    "!pip install xgboost"
   ]
  },
  {
   "cell_type": "code",
   "execution_count": 110,
   "id": "3e609dc6",
   "metadata": {},
   "outputs": [
    {
     "name": "stdout",
     "output_type": "stream",
     "text": [
      "Accuracy (Test Set): 0.17\n",
      "Precision (Test Set): 0.10\n",
      "Recall (Test Set): 0.97\n",
      "F1-Score (Test Set): 0.18\n",
      "AUC: 0.64\n"
     ]
    }
   ],
   "source": [
    "#XGBoost\n",
    "from xgboost import XGBClassifier\n",
    "\n",
    "model_xgb = XGBClassifier(random_state=123)\n",
    "model_xgb.fit(X_smote, y_smote)\n",
    "y_train_hat = model.predict(X_smote)\n",
    "y_test_hat = model.predict(X_test)\n",
    "\n",
    "eval_classification(model_xgb, X_smote, y_smote, X_test, y_test)"
   ]
  },
  {
   "cell_type": "code",
   "execution_count": 111,
   "id": "8f213d67",
   "metadata": {},
   "outputs": [
    {
     "name": "stdout",
     "output_type": "stream",
     "text": [
      "Accuracy (Test Set): 0.92\n",
      "Precision (Test Set): 0.73\n",
      "Recall (Test Set): 0.12\n",
      "F1-Score (Test Set): 0.21\n",
      "AUC: 0.73\n"
     ]
    }
   ],
   "source": [
    "#XGBoost without SMOTE\n",
    "from xgboost import XGBClassifier\n",
    "\n",
    "model_xg = XGBClassifier(random_state=123)\n",
    "model_xg.fit(X_train, y_train)\n",
    "y_train_hat = model.predict(X_train)\n",
    "y_test_hat = model.predict(X_test)\n",
    "\n",
    "eval_classification(model_xg, X_train, y_train, X_test, y_test)"
   ]
  },
  {
   "cell_type": "code",
   "execution_count": 112,
   "id": "619539c0",
   "metadata": {},
   "outputs": [
    {
     "name": "stdout",
     "output_type": "stream",
     "text": [
      "Accuracy (Test Set): 0.55\n",
      "Precision (Test Set): 0.13\n",
      "Recall (Test Set): 0.66\n",
      "F1-Score (Test Set): 0.21\n",
      "AUC: 0.61\n"
     ]
    }
   ],
   "source": [
    "# Extra Trees\n",
    "from sklearn.ensemble import ExtraTreesClassifier\n",
    "\n",
    "model_xt = ExtraTreesClassifier(random_state=123)\n",
    "model_xt.fit(X_smote, y_smote)\n",
    "y_train_hat = model.predict(X_smote)\n",
    "y_test_hat = model.predict(X_test)\n",
    "\n",
    "eval_classification(model_xt, X_smote, y_smote, X_test, y_test)"
   ]
  },
  {
   "cell_type": "code",
   "execution_count": 113,
   "id": "a5090121",
   "metadata": {},
   "outputs": [
    {
     "name": "stdout",
     "output_type": "stream",
     "text": [
      "Accuracy (Test Set): 0.92\n",
      "Precision (Test Set): 0.69\n",
      "Recall (Test Set): 0.12\n",
      "F1-Score (Test Set): 0.21\n",
      "AUC: 0.73\n"
     ]
    }
   ],
   "source": [
    "# Extra Trees without SMOTE\n",
    "from sklearn.ensemble import ExtraTreesClassifier\n",
    "\n",
    "model_x = ExtraTreesClassifier(random_state=123)\n",
    "model_x.fit(X_train, y_train)\n",
    "y_train_hat = model.predict(X_train)\n",
    "y_test_hat = model.predict(X_test)\n",
    "\n",
    "eval_classification(model_x, X_train, y_train, X_test, y_test)"
   ]
  },
  {
   "cell_type": "code",
   "execution_count": 114,
   "id": "4847dfd7-b242-4039-9a4c-50821e256322",
   "metadata": {},
   "outputs": [
    {
     "name": "stdout",
     "output_type": "stream",
     "text": [
      "Requirement already satisfied: lightgbm in /opt/conda/lib/python3.7/site-packages (3.3.4)\n",
      "Requirement already satisfied: scipy in /opt/conda/lib/python3.7/site-packages (from lightgbm) (1.7.3)\n",
      "Requirement already satisfied: scikit-learn!=0.22.0 in /opt/conda/lib/python3.7/site-packages (from lightgbm) (1.0.2)\n",
      "Requirement already satisfied: wheel in /opt/conda/lib/python3.7/site-packages (from lightgbm) (0.38.4)\n",
      "Requirement already satisfied: numpy in /opt/conda/lib/python3.7/site-packages (from lightgbm) (1.21.6)\n",
      "Requirement already satisfied: threadpoolctl>=2.0.0 in /opt/conda/lib/python3.7/site-packages (from scikit-learn!=0.22.0->lightgbm) (3.1.0)\n",
      "Requirement already satisfied: joblib>=0.11 in /opt/conda/lib/python3.7/site-packages (from scikit-learn!=0.22.0->lightgbm) (1.2.0)\n"
     ]
    }
   ],
   "source": [
    "!pip install lightgbm"
   ]
  },
  {
   "cell_type": "code",
   "execution_count": 115,
   "id": "a4e46031",
   "metadata": {},
   "outputs": [
    {
     "name": "stdout",
     "output_type": "stream",
     "text": [
      "[LightGBM] [Warning] Auto-choosing row-wise multi-threading, the overhead of testing was 0.000302 seconds.\n",
      "You can set `force_row_wise=true` to remove the overhead.\n",
      "And if memory is not enough, you can set `force_col_wise=true`.\n",
      "[LightGBM] [Info] Total Bins 70\n",
      "[LightGBM] [Info] Number of data points in the train set: 30665, number of used features: 3\n",
      "[LightGBM] [Info] Start training from score 0.086679\n"
     ]
    }
   ],
   "source": [
    "#Lightgbm with is_unbalance is True\n",
    "import lightgbm as lgb\n",
    "\n",
    "lgb_train = lgb.Dataset(X_train, y_train)\n",
    "params = {'is_unbalance': True, 'scale_pos_weight': sum(y_train==0)/sum(y_train==1)}\n",
    "\n",
    "# Train the LightGBM model\n",
    "model_lgbm = lgb.train(params, lgb_train)\n",
    "\n",
    "#eval_classification(model_lgbm, X_train, y_train, X_test, y_test)"
   ]
  },
  {
   "cell_type": "code",
   "execution_count": 116,
   "id": "5f9db272",
   "metadata": {},
   "outputs": [
    {
     "name": "stdout",
     "output_type": "stream",
     "text": [
      "Accuracy: 0.9166557975740185\n"
     ]
    }
   ],
   "source": [
    "# Make predictions on the test set\n",
    "y_pred = model_lgbm.predict(X_test)\n",
    "\n",
    "# Convert the predictions to binary labels\n",
    "y_pred = [1 if p > 0.5 else 0 for p in y_pred]\n",
    "\n",
    "# Evaluate the model performance\n",
    "accuracy = sum(y_pred == y_test) / len(y_test)\n",
    "print('Accuracy:', accuracy)"
   ]
  },
  {
   "cell_type": "code",
   "execution_count": 117,
   "id": "f73977f0",
   "metadata": {},
   "outputs": [
    {
     "data": {
      "text/plain": [
       "0.7433628318584071"
      ]
     },
     "execution_count": 117,
     "metadata": {},
     "output_type": "execute_result"
    }
   ],
   "source": [
    "precision_score(y_test, y_pred)"
   ]
  },
  {
   "cell_type": "code",
   "execution_count": 118,
   "id": "c43976af",
   "metadata": {},
   "outputs": [
    {
     "data": {
      "text/plain": [
       "0.20817843866171004"
      ]
     },
     "execution_count": 118,
     "metadata": {},
     "output_type": "execute_result"
    }
   ],
   "source": [
    "f1_score(y_test, y_pred)"
   ]
  },
  {
   "cell_type": "markdown",
   "id": "e91ce838",
   "metadata": {},
   "source": [
    "**I choose XGBoost for modeling and data without SMOTE**"
   ]
  },
  {
   "cell_type": "markdown",
   "id": "e96843f3",
   "metadata": {},
   "source": [
    "# Finding the best employee"
   ]
  },
  {
   "cell_type": "code",
   "execution_count": 119,
   "id": "f06eaeb8",
   "metadata": {},
   "outputs": [
    {
     "data": {
      "text/plain": [
       "Index(['employee_id', 'department', 'region', 'education', 'gender',\n",
       "       'recruitment_channel', 'no_of_trainings', 'age', 'previous_year_rating',\n",
       "       'length_of_service', 'awards_won', 'avg_training_score', 'age_cats'],\n",
       "      dtype='object')"
      ]
     },
     "execution_count": 119,
     "metadata": {},
     "output_type": "execute_result"
    }
   ],
   "source": [
    "dfp.columns"
   ]
  },
  {
   "cell_type": "code",
   "execution_count": 120,
   "id": "86850096",
   "metadata": {},
   "outputs": [],
   "source": [
    "data_2022 = dfp[selected_cols]"
   ]
  },
  {
   "cell_type": "code",
   "execution_count": 121,
   "id": "cbb59262",
   "metadata": {},
   "outputs": [],
   "source": [
    "cols = data_2022.columns\n",
    "\n",
    "scaler = StandardScaler().fit(data_2022.values)\n",
    "data_2022[cols] = scaler.transform(data_2022.values)"
   ]
  },
  {
   "cell_type": "code",
   "execution_count": 122,
   "id": "9c130a1e",
   "metadata": {},
   "outputs": [],
   "source": [
    "data_2022['is_promoted'] = model_xg.predict(data_2022)"
   ]
  },
  {
   "cell_type": "code",
   "execution_count": 123,
   "id": "33fff15a",
   "metadata": {
    "scrolled": true
   },
   "outputs": [
    {
     "data": {
      "text/plain": [
       "0    13835\n",
       "1      231\n",
       "Name: is_promoted, dtype: int64"
      ]
     },
     "execution_count": 123,
     "metadata": {},
     "output_type": "execute_result"
    }
   ],
   "source": [
    "data_2022.is_promoted.value_counts()"
   ]
  },
  {
   "cell_type": "code",
   "execution_count": 124,
   "id": "cb55fa7e",
   "metadata": {
    "scrolled": true
   },
   "outputs": [
    {
     "data": {
      "text/plain": [
       "1.67"
      ]
     },
     "execution_count": 124,
     "metadata": {},
     "output_type": "execute_result"
    }
   ],
   "source": [
    "round(231/13835*100,2)"
   ]
  },
  {
   "cell_type": "markdown",
   "id": "2479eaa2",
   "metadata": {},
   "source": [
    "**>> 1.67% employees is considered promoted**"
   ]
  },
  {
   "cell_type": "code",
   "execution_count": null,
   "id": "a3cd7f89",
   "metadata": {},
   "outputs": [],
   "source": []
  },
  {
   "cell_type": "code",
   "execution_count": 125,
   "id": "6cb62aa1",
   "metadata": {},
   "outputs": [],
   "source": [
    "dfp['is_promoted'] = data_2022['is_promoted']"
   ]
  },
  {
   "cell_type": "code",
   "execution_count": 126,
   "id": "471e9e16",
   "metadata": {},
   "outputs": [],
   "source": [
    "best_em = dfp[(dfp.is_promoted == 1) & (dfp.awards_won == 1)][['employee_id','department','length_of_service',\n",
    "                                                              'previous_year_rating','avg_training_score']]"
   ]
  },
  {
   "cell_type": "code",
   "execution_count": 127,
   "id": "e6d1d4ae",
   "metadata": {},
   "outputs": [],
   "source": [
    "best_em = best_em.reset_index()\n",
    "best_em.drop(columns=['index'], inplace=True)"
   ]
  },
  {
   "cell_type": "code",
   "execution_count": 128,
   "id": "9f330815",
   "metadata": {},
   "outputs": [
    {
     "data": {
      "text/html": [
       "<div>\n",
       "<style scoped>\n",
       "    .dataframe tbody tr th:only-of-type {\n",
       "        vertical-align: middle;\n",
       "    }\n",
       "\n",
       "    .dataframe tbody tr th {\n",
       "        vertical-align: top;\n",
       "    }\n",
       "\n",
       "    .dataframe thead th {\n",
       "        text-align: right;\n",
       "    }\n",
       "</style>\n",
       "<table border=\"1\" class=\"dataframe\">\n",
       "  <thead>\n",
       "    <tr style=\"text-align: right;\">\n",
       "      <th></th>\n",
       "      <th>employee_id</th>\n",
       "      <th>department</th>\n",
       "      <th>length_of_service</th>\n",
       "      <th>previous_year_rating</th>\n",
       "      <th>avg_training_score</th>\n",
       "    </tr>\n",
       "  </thead>\n",
       "  <tbody>\n",
       "    <tr>\n",
       "      <th>0</th>\n",
       "      <td>56183</td>\n",
       "      <td>Analytics</td>\n",
       "      <td>9</td>\n",
       "      <td>5.0</td>\n",
       "      <td>89</td>\n",
       "    </tr>\n",
       "    <tr>\n",
       "      <th>1</th>\n",
       "      <td>3572</td>\n",
       "      <td>Procurement</td>\n",
       "      <td>5</td>\n",
       "      <td>5.0</td>\n",
       "      <td>72</td>\n",
       "    </tr>\n",
       "    <tr>\n",
       "      <th>2</th>\n",
       "      <td>62252</td>\n",
       "      <td>Legal</td>\n",
       "      <td>7</td>\n",
       "      <td>2.0</td>\n",
       "      <td>89</td>\n",
       "    </tr>\n",
       "    <tr>\n",
       "      <th>3</th>\n",
       "      <td>78218</td>\n",
       "      <td>Sales &amp; Marketing</td>\n",
       "      <td>6</td>\n",
       "      <td>4.0</td>\n",
       "      <td>93</td>\n",
       "    </tr>\n",
       "    <tr>\n",
       "      <th>4</th>\n",
       "      <td>26222</td>\n",
       "      <td>Technology</td>\n",
       "      <td>5</td>\n",
       "      <td>2.0</td>\n",
       "      <td>73</td>\n",
       "    </tr>\n",
       "  </tbody>\n",
       "</table>\n",
       "</div>"
      ],
      "text/plain": [
       "   employee_id         department  length_of_service  previous_year_rating  \\\n",
       "0        56183          Analytics                  9                   5.0   \n",
       "1         3572        Procurement                  5                   5.0   \n",
       "2        62252              Legal                  7                   2.0   \n",
       "3        78218  Sales & Marketing                  6                   4.0   \n",
       "4        26222         Technology                  5                   2.0   \n",
       "\n",
       "   avg_training_score  \n",
       "0                  89  \n",
       "1                  72  \n",
       "2                  89  \n",
       "3                  93  \n",
       "4                  73  "
      ]
     },
     "execution_count": 128,
     "metadata": {},
     "output_type": "execute_result"
    }
   ],
   "source": [
    "best_em.head()"
   ]
  },
  {
   "cell_type": "code",
   "execution_count": null,
   "id": "a751963b",
   "metadata": {},
   "outputs": [],
   "source": []
  },
  {
   "cell_type": "markdown",
   "id": "079cef62",
   "metadata": {},
   "source": [
    "## We're Using Composite Performance Index to "
   ]
  },
  {
   "cell_type": "code",
   "execution_count": 129,
   "id": "1b3e6578",
   "metadata": {},
   "outputs": [],
   "source": [
    "b1 = (1 + 1/2 + 1/3)/3\n",
    "b2 = (1/2 + 1/3)/3\n",
    "b3 = (1/3)/3"
   ]
  },
  {
   "cell_type": "code",
   "execution_count": 130,
   "id": "f29d9f89",
   "metadata": {},
   "outputs": [],
   "source": [
    "best_em['b1'] = best_em['previous_year_rating']/best_em['previous_year_rating'].min()*100\n",
    "best_em['b2'] = best_em['avg_training_score']/best_em['avg_training_score'].min()*100\n",
    "best_em['b3'] = best_em['length_of_service']/best_em['length_of_service'].min()*100"
   ]
  },
  {
   "cell_type": "code",
   "execution_count": 131,
   "id": "95d15910",
   "metadata": {},
   "outputs": [
    {
     "data": {
      "text/html": [
       "<div>\n",
       "<style scoped>\n",
       "    .dataframe tbody tr th:only-of-type {\n",
       "        vertical-align: middle;\n",
       "    }\n",
       "\n",
       "    .dataframe tbody tr th {\n",
       "        vertical-align: top;\n",
       "    }\n",
       "\n",
       "    .dataframe thead th {\n",
       "        text-align: right;\n",
       "    }\n",
       "</style>\n",
       "<table border=\"1\" class=\"dataframe\">\n",
       "  <thead>\n",
       "    <tr style=\"text-align: right;\">\n",
       "      <th></th>\n",
       "      <th>employee_id</th>\n",
       "      <th>department</th>\n",
       "      <th>length_of_service</th>\n",
       "      <th>previous_year_rating</th>\n",
       "      <th>avg_training_score</th>\n",
       "      <th>b1</th>\n",
       "      <th>b2</th>\n",
       "      <th>b3</th>\n",
       "    </tr>\n",
       "  </thead>\n",
       "  <tbody>\n",
       "    <tr>\n",
       "      <th>0</th>\n",
       "      <td>56183</td>\n",
       "      <td>Analytics</td>\n",
       "      <td>9</td>\n",
       "      <td>5.0</td>\n",
       "      <td>89</td>\n",
       "      <td>500.0</td>\n",
       "      <td>153.448276</td>\n",
       "      <td>900.0</td>\n",
       "    </tr>\n",
       "    <tr>\n",
       "      <th>1</th>\n",
       "      <td>3572</td>\n",
       "      <td>Procurement</td>\n",
       "      <td>5</td>\n",
       "      <td>5.0</td>\n",
       "      <td>72</td>\n",
       "      <td>500.0</td>\n",
       "      <td>124.137931</td>\n",
       "      <td>500.0</td>\n",
       "    </tr>\n",
       "    <tr>\n",
       "      <th>2</th>\n",
       "      <td>62252</td>\n",
       "      <td>Legal</td>\n",
       "      <td>7</td>\n",
       "      <td>2.0</td>\n",
       "      <td>89</td>\n",
       "      <td>200.0</td>\n",
       "      <td>153.448276</td>\n",
       "      <td>700.0</td>\n",
       "    </tr>\n",
       "    <tr>\n",
       "      <th>3</th>\n",
       "      <td>78218</td>\n",
       "      <td>Sales &amp; Marketing</td>\n",
       "      <td>6</td>\n",
       "      <td>4.0</td>\n",
       "      <td>93</td>\n",
       "      <td>400.0</td>\n",
       "      <td>160.344828</td>\n",
       "      <td>600.0</td>\n",
       "    </tr>\n",
       "    <tr>\n",
       "      <th>4</th>\n",
       "      <td>26222</td>\n",
       "      <td>Technology</td>\n",
       "      <td>5</td>\n",
       "      <td>2.0</td>\n",
       "      <td>73</td>\n",
       "      <td>200.0</td>\n",
       "      <td>125.862069</td>\n",
       "      <td>500.0</td>\n",
       "    </tr>\n",
       "  </tbody>\n",
       "</table>\n",
       "</div>"
      ],
      "text/plain": [
       "   employee_id         department  length_of_service  previous_year_rating  \\\n",
       "0        56183          Analytics                  9                   5.0   \n",
       "1         3572        Procurement                  5                   5.0   \n",
       "2        62252              Legal                  7                   2.0   \n",
       "3        78218  Sales & Marketing                  6                   4.0   \n",
       "4        26222         Technology                  5                   2.0   \n",
       "\n",
       "   avg_training_score     b1          b2     b3  \n",
       "0                  89  500.0  153.448276  900.0  \n",
       "1                  72  500.0  124.137931  500.0  \n",
       "2                  89  200.0  153.448276  700.0  \n",
       "3                  93  400.0  160.344828  600.0  \n",
       "4                  73  200.0  125.862069  500.0  "
      ]
     },
     "execution_count": 131,
     "metadata": {},
     "output_type": "execute_result"
    }
   ],
   "source": [
    "best_em.head()"
   ]
  },
  {
   "cell_type": "code",
   "execution_count": 132,
   "id": "23e8207f",
   "metadata": {},
   "outputs": [],
   "source": [
    "best_em['tot_score'] = best_em['b1']*b1+best_em['b2']*b2+best_em['b3']*b3"
   ]
  },
  {
   "cell_type": "code",
   "execution_count": 133,
   "id": "bbb64564",
   "metadata": {},
   "outputs": [],
   "source": [
    "best_em = best_em.sort_values('tot_score', ascending=False)"
   ]
  },
  {
   "cell_type": "code",
   "execution_count": 134,
   "id": "ec48bd51",
   "metadata": {
    "scrolled": true
   },
   "outputs": [
    {
     "data": {
      "text/html": [
       "<div>\n",
       "<style scoped>\n",
       "    .dataframe tbody tr th:only-of-type {\n",
       "        vertical-align: middle;\n",
       "    }\n",
       "\n",
       "    .dataframe tbody tr th {\n",
       "        vertical-align: top;\n",
       "    }\n",
       "\n",
       "    .dataframe thead th {\n",
       "        text-align: right;\n",
       "    }\n",
       "</style>\n",
       "<table border=\"1\" class=\"dataframe\">\n",
       "  <thead>\n",
       "    <tr style=\"text-align: right;\">\n",
       "      <th></th>\n",
       "      <th>employee_id</th>\n",
       "      <th>department</th>\n",
       "      <th>length_of_service</th>\n",
       "      <th>previous_year_rating</th>\n",
       "      <th>avg_training_score</th>\n",
       "      <th>b1</th>\n",
       "      <th>b2</th>\n",
       "      <th>b3</th>\n",
       "      <th>tot_score</th>\n",
       "    </tr>\n",
       "  </thead>\n",
       "  <tbody>\n",
       "    <tr>\n",
       "      <th>87</th>\n",
       "      <td>25576</td>\n",
       "      <td>Technology</td>\n",
       "      <td>19</td>\n",
       "      <td>4.0</td>\n",
       "      <td>92</td>\n",
       "      <td>400.0</td>\n",
       "      <td>158.620690</td>\n",
       "      <td>1900.0</td>\n",
       "      <td>499.616858</td>\n",
       "    </tr>\n",
       "    <tr>\n",
       "      <th>56</th>\n",
       "      <td>48831</td>\n",
       "      <td>Operations</td>\n",
       "      <td>13</td>\n",
       "      <td>5.0</td>\n",
       "      <td>73</td>\n",
       "      <td>500.0</td>\n",
       "      <td>125.862069</td>\n",
       "      <td>1300.0</td>\n",
       "      <td>484.961686</td>\n",
       "    </tr>\n",
       "    <tr>\n",
       "      <th>39</th>\n",
       "      <td>32222</td>\n",
       "      <td>Analytics</td>\n",
       "      <td>17</td>\n",
       "      <td>4.0</td>\n",
       "      <td>92</td>\n",
       "      <td>400.0</td>\n",
       "      <td>158.620690</td>\n",
       "      <td>1700.0</td>\n",
       "      <td>477.394636</td>\n",
       "    </tr>\n",
       "  </tbody>\n",
       "</table>\n",
       "</div>"
      ],
      "text/plain": [
       "    employee_id  department  length_of_service  previous_year_rating  \\\n",
       "87        25576  Technology                 19                   4.0   \n",
       "56        48831  Operations                 13                   5.0   \n",
       "39        32222   Analytics                 17                   4.0   \n",
       "\n",
       "    avg_training_score     b1          b2      b3   tot_score  \n",
       "87                  92  400.0  158.620690  1900.0  499.616858  \n",
       "56                  73  500.0  125.862069  1300.0  484.961686  \n",
       "39                  92  400.0  158.620690  1700.0  477.394636  "
      ]
     },
     "execution_count": 134,
     "metadata": {},
     "output_type": "execute_result"
    }
   ],
   "source": [
    "best_em.head(3)"
   ]
  },
  {
   "cell_type": "code",
   "execution_count": null,
   "id": "a8119d19",
   "metadata": {},
   "outputs": [],
   "source": []
  },
  {
   "cell_type": "code",
   "execution_count": null,
   "id": "7a7a293c",
   "metadata": {},
   "outputs": [],
   "source": []
  },
  {
   "cell_type": "markdown",
   "id": "c1dcdf05",
   "metadata": {},
   "source": [
    "**>> The Top Three for Employee 2022 is 25576, 48831, 32222**"
   ]
  },
  {
   "cell_type": "code",
   "execution_count": 135,
   "id": "521aac73",
   "metadata": {},
   "outputs": [],
   "source": [
    "best_dep = dfp_ori.groupby('department').agg({'employee_id':\n",
    "                                              'count'}).sort_values('department',ascending=False).reset_index()"
   ]
  },
  {
   "cell_type": "code",
   "execution_count": 136,
   "id": "f13f1e76",
   "metadata": {},
   "outputs": [],
   "source": [
    "best_dep['emp_prom'] = best_em.groupby('department').agg({'employee_id':\n",
    "                                                          'count'}).sort_values('department',ascending=False).reset_index()['employee_id']"
   ]
  },
  {
   "cell_type": "code",
   "execution_count": 137,
   "id": "170d8f78",
   "metadata": {
    "scrolled": true
   },
   "outputs": [],
   "source": [
    "best_dep['percentage'] = round(best_dep['emp_prom']/best_dep['employee_id']*100,2)"
   ]
  },
  {
   "cell_type": "code",
   "execution_count": 138,
   "id": "3965c321",
   "metadata": {},
   "outputs": [
    {
     "data": {
      "text/html": [
       "<div>\n",
       "<style scoped>\n",
       "    .dataframe tbody tr th:only-of-type {\n",
       "        vertical-align: middle;\n",
       "    }\n",
       "\n",
       "    .dataframe tbody tr th {\n",
       "        vertical-align: top;\n",
       "    }\n",
       "\n",
       "    .dataframe thead th {\n",
       "        text-align: right;\n",
       "    }\n",
       "</style>\n",
       "<table border=\"1\" class=\"dataframe\">\n",
       "  <thead>\n",
       "    <tr style=\"text-align: right;\">\n",
       "      <th></th>\n",
       "      <th>department</th>\n",
       "      <th>employee_id</th>\n",
       "      <th>emp_prom</th>\n",
       "      <th>percentage</th>\n",
       "    </tr>\n",
       "  </thead>\n",
       "  <tbody>\n",
       "    <tr>\n",
       "      <th>8</th>\n",
       "      <td>Analytics</td>\n",
       "      <td>1434</td>\n",
       "      <td>24</td>\n",
       "      <td>1.67</td>\n",
       "    </tr>\n",
       "    <tr>\n",
       "      <th>5</th>\n",
       "      <td>Legal</td>\n",
       "      <td>296</td>\n",
       "      <td>3</td>\n",
       "      <td>1.01</td>\n",
       "    </tr>\n",
       "    <tr>\n",
       "      <th>0</th>\n",
       "      <td>Technology</td>\n",
       "      <td>1909</td>\n",
       "      <td>18</td>\n",
       "      <td>0.94</td>\n",
       "    </tr>\n",
       "    <tr>\n",
       "      <th>3</th>\n",
       "      <td>Procurement</td>\n",
       "      <td>1878</td>\n",
       "      <td>11</td>\n",
       "      <td>0.59</td>\n",
       "    </tr>\n",
       "    <tr>\n",
       "      <th>4</th>\n",
       "      <td>Operations</td>\n",
       "      <td>3073</td>\n",
       "      <td>15</td>\n",
       "      <td>0.49</td>\n",
       "    </tr>\n",
       "    <tr>\n",
       "      <th>7</th>\n",
       "      <td>Finance</td>\n",
       "      <td>664</td>\n",
       "      <td>3</td>\n",
       "      <td>0.45</td>\n",
       "    </tr>\n",
       "    <tr>\n",
       "      <th>1</th>\n",
       "      <td>Sales &amp; Marketing</td>\n",
       "      <td>4515</td>\n",
       "      <td>18</td>\n",
       "      <td>0.40</td>\n",
       "    </tr>\n",
       "    <tr>\n",
       "      <th>2</th>\n",
       "      <td>R&amp;D</td>\n",
       "      <td>257</td>\n",
       "      <td>1</td>\n",
       "      <td>0.39</td>\n",
       "    </tr>\n",
       "    <tr>\n",
       "      <th>6</th>\n",
       "      <td>HR</td>\n",
       "      <td>681</td>\n",
       "      <td>1</td>\n",
       "      <td>0.15</td>\n",
       "    </tr>\n",
       "  </tbody>\n",
       "</table>\n",
       "</div>"
      ],
      "text/plain": [
       "          department  employee_id  emp_prom  percentage\n",
       "8          Analytics         1434        24        1.67\n",
       "5              Legal          296         3        1.01\n",
       "0         Technology         1909        18        0.94\n",
       "3        Procurement         1878        11        0.59\n",
       "4         Operations         3073        15        0.49\n",
       "7            Finance          664         3        0.45\n",
       "1  Sales & Marketing         4515        18        0.40\n",
       "2                R&D          257         1        0.39\n",
       "6                 HR          681         1        0.15"
      ]
     },
     "execution_count": 138,
     "metadata": {},
     "output_type": "execute_result"
    }
   ],
   "source": [
    "best_dep.sort_values('percentage', ascending=False)"
   ]
  },
  {
   "cell_type": "markdown",
   "id": "2247dcd1",
   "metadata": {},
   "source": [
    "**>> The Top Three for Employee 2022 is Analytics, Legal, and Technology**"
   ]
  },
  {
   "cell_type": "code",
   "execution_count": null,
   "id": "51f32f84",
   "metadata": {},
   "outputs": [],
   "source": []
  },
  {
   "cell_type": "markdown",
   "id": "481852e8-2990-42fe-b842-46c5092d4c21",
   "metadata": {},
   "source": [
    "from lazypredict.Supervised import LazyClassifier"
   ]
  },
  {
   "cell_type": "markdown",
   "id": "94e7ab60-aaab-477e-a77d-5220e6ab1a76",
   "metadata": {},
   "source": [
    "clf = LazyClassifier(verbose=0,ignore_warnings=True, custom_metric=None)\n",
    "models,predictions = clf.fit(X_train, X_test, y_train, y_test)\n",
    "models"
   ]
  },
  {
   "cell_type": "markdown",
   "id": "de92da22-ddc5-44ef-91eb-37cb5e9d6d91",
   "metadata": {},
   "source": [
    "clf = LazyClassifier(verbose=0,ignore_warnings=True, custom_metric=None)\n",
    "models,predictions = clf.fit(X_smote, X_test, y_smote, y_test)\n",
    "models"
   ]
  },
  {
   "cell_type": "markdown",
   "id": "80e7d659-00ca-400d-bd49-77f5d9cdc320",
   "metadata": {},
   "source": [
    "from sklearn.metrics import classification_report, confusion_matrix, roc_auc_score"
   ]
  },
  {
   "cell_type": "markdown",
   "id": "d57167b6-6fed-436b-9525-862d50311d99",
   "metadata": {},
   "source": [
    "from xgboost import XGBClassifier\n",
    "\n",
    "model = XGBClassifier(random_state=123)\n",
    "model.fit(X_train, y_train)\n",
    "y_train_hat = model.predict(X_train)\n",
    "y_test_hat = model.predict(X_test)\n",
    "\n",
    "print(model)\n",
    "print('Train performance')\n",
    "print('-------------------------------------------------------')\n",
    "print(classification_report(y_train, y_train_hat))\n",
    "\n",
    "print('Test performance')\n",
    "print('-------------------------------------------------------')\n",
    "print(classification_report(y_test, y_test_hat))\n",
    "\n",
    "print('Roc_auc score')\n",
    "print('-------------------------------------------------------')\n",
    "print(roc_auc_score(y_test, y_test_hat))\n",
    "print('')\n",
    "\n",
    "print('Confusion matrix')\n",
    "print('-------------------------------------------------------')\n",
    "print(confusion_matrix(y_test, y_test_hat))\n"
   ]
  },
  {
   "cell_type": "code",
   "execution_count": null,
   "id": "59ca8e3b-34af-41c0-a9e8-708f01c2fb68",
   "metadata": {},
   "outputs": [],
   "source": []
  },
  {
   "cell_type": "code",
   "execution_count": null,
   "id": "4d976f55-6914-4451-b420-ecd32ab87aaf",
   "metadata": {},
   "outputs": [],
   "source": []
  },
  {
   "cell_type": "markdown",
   "id": "17c4c70f-a3b3-4835-9513-272be8e9a86b",
   "metadata": {},
   "source": [
    "# Using TPOT"
   ]
  },
  {
   "cell_type": "code",
   "execution_count": 139,
   "id": "20cc7990-566a-4cb2-bfde-40ca004f37ff",
   "metadata": {},
   "outputs": [],
   "source": [
    "from tpot import TPOTClassifier"
   ]
  },
  {
   "cell_type": "code",
   "execution_count": 140,
   "id": "9b07b491-8458-472c-99ae-270e728aed0e",
   "metadata": {},
   "outputs": [],
   "source": [
    "pipeline_optimizer = TPOTClassifier()"
   ]
  },
  {
   "cell_type": "code",
   "execution_count": 141,
   "id": "b910a60f-e350-4fdf-b3cd-280965b0a8db",
   "metadata": {},
   "outputs": [],
   "source": [
    "pipeline_optimizer = TPOTClassifier(generations=5, population_size=20, cv=5,\n",
    "                                    random_state=42, verbosity=2)"
   ]
  },
  {
   "cell_type": "code",
   "execution_count": 142,
   "id": "b4bcdaf6-7b62-41e3-90b0-e2c365dc50c6",
   "metadata": {},
   "outputs": [
    {
     "data": {
      "application/vnd.jupyter.widget-view+json": {
       "model_id": "",
       "version_major": 2,
       "version_minor": 0
      },
      "text/plain": [
       "Optimization Progress:   0%|          | 0/120 [00:00<?, ?pipeline/s]"
      ]
     },
     "metadata": {},
     "output_type": "display_data"
    },
    {
     "name": "stdout",
     "output_type": "stream",
     "text": [
      "\n",
      "Generation 1 - Current best internal CV score: 0.9237567259090168\n",
      "\n",
      "Generation 2 - Current best internal CV score: 0.9237567259090168\n",
      "\n",
      "Generation 3 - Current best internal CV score: 0.9237567259090168\n",
      "\n",
      "Generation 4 - Current best internal CV score: 0.9238219468449372\n",
      "\n",
      "Generation 5 - Current best internal CV score: 0.9238219468449372\n",
      "\n",
      "Best pipeline: GradientBoostingClassifier(PolynomialFeatures(input_matrix, degree=2, include_bias=False, interaction_only=False), learning_rate=0.1, max_depth=2, max_features=0.2, min_samples_leaf=11, min_samples_split=4, n_estimators=100, subsample=0.45)\n"
     ]
    },
    {
     "data": {
      "text/plain": [
       "TPOTClassifier(generations=5, population_size=20, random_state=42, verbosity=2)"
      ]
     },
     "execution_count": 142,
     "metadata": {},
     "output_type": "execute_result"
    }
   ],
   "source": [
    "pipeline_optimizer.fit(X_train, y_train)\n"
   ]
  },
  {
   "cell_type": "code",
   "execution_count": 143,
   "id": "ff003aca-d526-483e-ace3-04152e8f8e95",
   "metadata": {},
   "outputs": [
    {
     "name": "stdout",
     "output_type": "stream",
     "text": [
      "0.9170470849093517\n"
     ]
    }
   ],
   "source": [
    "print(pipeline_optimizer.score(X_test, y_test))\n"
   ]
  },
  {
   "cell_type": "code",
   "execution_count": 190,
   "id": "66a0aed4-b17f-4f17-a173-4aee9c2f0c0c",
   "metadata": {},
   "outputs": [
    {
     "data": {
      "text/plain": [
       "0.9170470849093517"
      ]
     },
     "execution_count": 190,
     "metadata": {},
     "output_type": "execute_result"
    }
   ],
   "source": [
    "pipeline_optimizer.score(X_test, y_test)"
   ]
  },
  {
   "cell_type": "code",
   "execution_count": 144,
   "id": "827923a1-0da0-44db-bbc5-828ff2059c66",
   "metadata": {},
   "outputs": [],
   "source": [
    "pipeline_optimizer.export('tpot_exported_pipeline.py')"
   ]
  },
  {
   "cell_type": "code",
   "execution_count": 152,
   "id": "abdf66c6-2e99-4e97-8510-0b40e668a788",
   "metadata": {},
   "outputs": [],
   "source": [
    "X_new = data_2022.drop(columns=['is_promoted'])"
   ]
  },
  {
   "cell_type": "code",
   "execution_count": 158,
   "id": "8b068699-aff4-40f8-9870-e07a26800c51",
   "metadata": {},
   "outputs": [],
   "source": [
    "y_proba = pipeline_optimizer.predict(X_new)"
   ]
  },
  {
   "cell_type": "code",
   "execution_count": 159,
   "id": "c0a71540-a238-4222-98d5-c5af71c610a5",
   "metadata": {},
   "outputs": [
    {
     "data": {
      "text/plain": [
       "array([0, 0, 0, ..., 0, 0, 0])"
      ]
     },
     "execution_count": 159,
     "metadata": {},
     "output_type": "execute_result"
    }
   ],
   "source": [
    "y_proba"
   ]
  },
  {
   "cell_type": "code",
   "execution_count": 160,
   "id": "c5e04fd0-3cb1-4e5a-b383-766b3fb31432",
   "metadata": {},
   "outputs": [],
   "source": [
    "X_new['is_promoted'] = y_proba"
   ]
  },
  {
   "cell_type": "code",
   "execution_count": 161,
   "id": "1af72f1f-3455-4f4a-94bd-bbcc73c10314",
   "metadata": {},
   "outputs": [
    {
     "data": {
      "text/html": [
       "<div>\n",
       "<style scoped>\n",
       "    .dataframe tbody tr th:only-of-type {\n",
       "        vertical-align: middle;\n",
       "    }\n",
       "\n",
       "    .dataframe tbody tr th {\n",
       "        vertical-align: top;\n",
       "    }\n",
       "\n",
       "    .dataframe thead th {\n",
       "        text-align: right;\n",
       "    }\n",
       "</style>\n",
       "<table border=\"1\" class=\"dataframe\">\n",
       "  <thead>\n",
       "    <tr style=\"text-align: right;\">\n",
       "      <th></th>\n",
       "      <th>previous_year_rating</th>\n",
       "      <th>awards_won</th>\n",
       "      <th>avg_training_score</th>\n",
       "      <th>is_promoted</th>\n",
       "    </tr>\n",
       "  </thead>\n",
       "  <tbody>\n",
       "    <tr>\n",
       "      <th>0</th>\n",
       "      <td>-0.264757</td>\n",
       "      <td>-0.15086</td>\n",
       "      <td>0.412802</td>\n",
       "      <td>0</td>\n",
       "    </tr>\n",
       "    <tr>\n",
       "      <th>1</th>\n",
       "      <td>1.389284</td>\n",
       "      <td>-0.15086</td>\n",
       "      <td>-0.941373</td>\n",
       "      <td>0</td>\n",
       "    </tr>\n",
       "    <tr>\n",
       "      <th>2</th>\n",
       "      <td>-0.264757</td>\n",
       "      <td>-0.15086</td>\n",
       "      <td>-0.038589</td>\n",
       "      <td>0</td>\n",
       "    </tr>\n",
       "    <tr>\n",
       "      <th>3</th>\n",
       "      <td>-1.918798</td>\n",
       "      <td>-0.15086</td>\n",
       "      <td>1.616514</td>\n",
       "      <td>0</td>\n",
       "    </tr>\n",
       "    <tr>\n",
       "      <th>4</th>\n",
       "      <td>-0.264757</td>\n",
       "      <td>-0.15086</td>\n",
       "      <td>-0.640445</td>\n",
       "      <td>0</td>\n",
       "    </tr>\n",
       "  </tbody>\n",
       "</table>\n",
       "</div>"
      ],
      "text/plain": [
       "   previous_year_rating  awards_won  avg_training_score  is_promoted\n",
       "0             -0.264757    -0.15086            0.412802            0\n",
       "1              1.389284    -0.15086           -0.941373            0\n",
       "2             -0.264757    -0.15086           -0.038589            0\n",
       "3             -1.918798    -0.15086            1.616514            0\n",
       "4             -0.264757    -0.15086           -0.640445            0"
      ]
     },
     "execution_count": 161,
     "metadata": {},
     "output_type": "execute_result"
    }
   ],
   "source": [
    "X_new.head()"
   ]
  },
  {
   "cell_type": "code",
   "execution_count": 162,
   "id": "75c4805c-40fe-4651-8b79-35ca076a1550",
   "metadata": {},
   "outputs": [
    {
     "data": {
      "text/plain": [
       "0    13826\n",
       "1      240\n",
       "Name: is_promoted, dtype: int64"
      ]
     },
     "execution_count": 162,
     "metadata": {},
     "output_type": "execute_result"
    }
   ],
   "source": [
    "X_new.is_promoted.value_counts()"
   ]
  },
  {
   "cell_type": "code",
   "execution_count": 163,
   "id": "c074dcc5-d023-4a50-ba34-f3b35023332e",
   "metadata": {},
   "outputs": [
    {
     "data": {
      "text/plain": [
       "1.73"
      ]
     },
     "execution_count": 163,
     "metadata": {},
     "output_type": "execute_result"
    }
   ],
   "source": [
    "round(240/13835*100,2)"
   ]
  },
  {
   "cell_type": "code",
   "execution_count": 164,
   "id": "9e2881b7-ba43-45eb-8890-6e3073233a9b",
   "metadata": {},
   "outputs": [],
   "source": [
    "data_2022['tpot'] = y_proba"
   ]
  },
  {
   "cell_type": "code",
   "execution_count": 166,
   "id": "56dfe051-06ff-490c-bbf5-f6da0ae57f60",
   "metadata": {},
   "outputs": [
    {
     "data": {
      "text/html": [
       "<div>\n",
       "<style scoped>\n",
       "    .dataframe tbody tr th:only-of-type {\n",
       "        vertical-align: middle;\n",
       "    }\n",
       "\n",
       "    .dataframe tbody tr th {\n",
       "        vertical-align: top;\n",
       "    }\n",
       "\n",
       "    .dataframe thead th {\n",
       "        text-align: right;\n",
       "    }\n",
       "</style>\n",
       "<table border=\"1\" class=\"dataframe\">\n",
       "  <thead>\n",
       "    <tr style=\"text-align: right;\">\n",
       "      <th></th>\n",
       "      <th>previous_year_rating</th>\n",
       "      <th>awards_won</th>\n",
       "      <th>avg_training_score</th>\n",
       "      <th>is_promoted</th>\n",
       "      <th>tpot</th>\n",
       "    </tr>\n",
       "  </thead>\n",
       "  <tbody>\n",
       "    <tr>\n",
       "      <th>9976</th>\n",
       "      <td>-0.264757</td>\n",
       "      <td>-0.150860</td>\n",
       "      <td>-0.790909</td>\n",
       "      <td>0</td>\n",
       "      <td>0</td>\n",
       "    </tr>\n",
       "    <tr>\n",
       "      <th>12737</th>\n",
       "      <td>-0.264757</td>\n",
       "      <td>-0.150860</td>\n",
       "      <td>-0.264285</td>\n",
       "      <td>0</td>\n",
       "      <td>0</td>\n",
       "    </tr>\n",
       "    <tr>\n",
       "      <th>13094</th>\n",
       "      <td>-0.264757</td>\n",
       "      <td>6.628672</td>\n",
       "      <td>-0.189053</td>\n",
       "      <td>0</td>\n",
       "      <td>0</td>\n",
       "    </tr>\n",
       "    <tr>\n",
       "      <th>9456</th>\n",
       "      <td>1.389284</td>\n",
       "      <td>-0.150860</td>\n",
       "      <td>0.713730</td>\n",
       "      <td>0</td>\n",
       "      <td>0</td>\n",
       "    </tr>\n",
       "    <tr>\n",
       "      <th>2254</th>\n",
       "      <td>-0.264757</td>\n",
       "      <td>-0.150860</td>\n",
       "      <td>0.187107</td>\n",
       "      <td>0</td>\n",
       "      <td>0</td>\n",
       "    </tr>\n",
       "  </tbody>\n",
       "</table>\n",
       "</div>"
      ],
      "text/plain": [
       "       previous_year_rating  awards_won  avg_training_score  is_promoted  tpot\n",
       "9976              -0.264757   -0.150860           -0.790909            0     0\n",
       "12737             -0.264757   -0.150860           -0.264285            0     0\n",
       "13094             -0.264757    6.628672           -0.189053            0     0\n",
       "9456               1.389284   -0.150860            0.713730            0     0\n",
       "2254              -0.264757   -0.150860            0.187107            0     0"
      ]
     },
     "execution_count": 166,
     "metadata": {},
     "output_type": "execute_result"
    }
   ],
   "source": [
    "data_2022.sample(5)"
   ]
  },
  {
   "cell_type": "code",
   "execution_count": 169,
   "id": "b7eb7910-cb53-4d43-808e-933fbcffa86d",
   "metadata": {},
   "outputs": [
    {
     "data": {
      "text/plain": [
       "0    13835\n",
       "1      231\n",
       "Name: is_promoted, dtype: int64"
      ]
     },
     "execution_count": 169,
     "metadata": {},
     "output_type": "execute_result"
    }
   ],
   "source": [
    "data_2022.is_promoted.value_counts()"
   ]
  },
  {
   "cell_type": "code",
   "execution_count": 178,
   "id": "485ffd0f-2072-4372-82ef-1c76252d3176",
   "metadata": {},
   "outputs": [
    {
     "data": {
      "text/plain": [
       "1.64"
      ]
     },
     "execution_count": 178,
     "metadata": {},
     "output_type": "execute_result"
    }
   ],
   "source": [
    "round(231/data_2022.is_promoted.count()*100,2)"
   ]
  },
  {
   "cell_type": "code",
   "execution_count": 179,
   "id": "47b464a2-5cef-417a-bb54-cdd67e86fbce",
   "metadata": {},
   "outputs": [
    {
     "data": {
      "text/plain": [
       "0    13826\n",
       "1      240\n",
       "Name: tpot, dtype: int64"
      ]
     },
     "execution_count": 179,
     "metadata": {},
     "output_type": "execute_result"
    }
   ],
   "source": [
    "data_2022.tpot.value_counts()"
   ]
  },
  {
   "cell_type": "code",
   "execution_count": 180,
   "id": "ab142efb-45aa-421f-b280-ee71905a7d43",
   "metadata": {},
   "outputs": [
    {
     "data": {
      "text/plain": [
       "1.71"
      ]
     },
     "execution_count": 180,
     "metadata": {},
     "output_type": "execute_result"
    }
   ],
   "source": [
    "round(240/data_2022.tpot.count()*100,2)"
   ]
  },
  {
   "cell_type": "code",
   "execution_count": 168,
   "id": "1d59a8fa-78f3-4c7b-9621-1815078c5aeb",
   "metadata": {},
   "outputs": [
    {
     "data": {
      "text/plain": [
       "previous_year_rating    218\n",
       "awards_won              218\n",
       "avg_training_score      218\n",
       "is_promoted             218\n",
       "tpot                    218\n",
       "dtype: int64"
      ]
     },
     "execution_count": 168,
     "metadata": {},
     "output_type": "execute_result"
    }
   ],
   "source": [
    "data_2022[(data_2022.is_promoted == 1) & (data_2022.tpot == 1)].count()"
   ]
  },
  {
   "cell_type": "code",
   "execution_count": 174,
   "id": "163f86ff-9b53-4699-bd1d-2a6b7bc44dff",
   "metadata": {},
   "outputs": [
    {
     "data": {
      "text/plain": [
       "previous_year_rating    35\n",
       "awards_won              35\n",
       "avg_training_score      35\n",
       "is_promoted             35\n",
       "tpot                    35\n",
       "dtype: int64"
      ]
     },
     "execution_count": 174,
     "metadata": {},
     "output_type": "execute_result"
    }
   ],
   "source": [
    "data_2022[((data_2022.is_promoted == 1) & (data_2022.tpot == 0)) |\n",
    "          ((data_2022.is_promoted == 0) & (data_2022.tpot == 1))].count()"
   ]
  },
  {
   "cell_type": "code",
   "execution_count": 187,
   "id": "f9b27f45-45e8-48f6-9def-30bfe68d12d3",
   "metadata": {},
   "outputs": [
    {
     "data": {
      "text/plain": [
       "13"
      ]
     },
     "execution_count": 187,
     "metadata": {},
     "output_type": "execute_result"
    }
   ],
   "source": [
    "data_2022[((data_2022.is_promoted == 1) &\n",
    "           (data_2022.tpot == 0))]['is_promoted'].count()"
   ]
  },
  {
   "cell_type": "code",
   "execution_count": 188,
   "id": "994c19eb-67e7-408a-bdea-00e6660503a8",
   "metadata": {},
   "outputs": [
    {
     "data": {
      "text/plain": [
       "22"
      ]
     },
     "execution_count": 188,
     "metadata": {},
     "output_type": "execute_result"
    }
   ],
   "source": [
    "data_2022[((data_2022.is_promoted == 0) &\n",
    "           (data_2022.tpot == 1))]['tpot'].count()"
   ]
  },
  {
   "cell_type": "code",
   "execution_count": 189,
   "id": "9823cb8b-147a-4a8b-b81a-7c4b68bc9a3b",
   "metadata": {},
   "outputs": [
    {
     "data": {
      "text/plain": [
       "0.07000000000000006"
      ]
     },
     "execution_count": 189,
     "metadata": {},
     "output_type": "execute_result"
    }
   ],
   "source": [
    "1.71-1.64"
   ]
  },
  {
   "cell_type": "code",
   "execution_count": null,
   "id": "fe997926-8797-4b49-9f72-59d39fd2323c",
   "metadata": {},
   "outputs": [],
   "source": []
  }
 ],
 "metadata": {
  "environment": {
   "kernel": "python3",
   "name": "tf2-gpu.2-8.m102",
   "type": "gcloud",
   "uri": "gcr.io/deeplearning-platform-release/tf2-gpu.2-8:m102"
  },
  "kernelspec": {
   "display_name": "Python 3 (ipykernel)",
   "language": "python",
   "name": "python3"
  },
  "language_info": {
   "codemirror_mode": {
    "name": "ipython",
    "version": 3
   },
   "file_extension": ".py",
   "mimetype": "text/x-python",
   "name": "python",
   "nbconvert_exporter": "python",
   "pygments_lexer": "ipython3",
   "version": "3.7.12"
  },
  "toc": {
   "base_numbering": 1,
   "nav_menu": {},
   "number_sections": true,
   "sideBar": true,
   "skip_h1_title": false,
   "title_cell": "Table of Contents",
   "title_sidebar": "Contents",
   "toc_cell": false,
   "toc_position": {
    "height": "calc(100% - 180px)",
    "left": "10px",
    "top": "150px",
    "width": "165px"
   },
   "toc_section_display": true,
   "toc_window_display": false
  },
  "varInspector": {
   "cols": {
    "lenName": 16,
    "lenType": 16,
    "lenVar": 40
   },
   "kernels_config": {
    "python": {
     "delete_cmd_postfix": "",
     "delete_cmd_prefix": "del ",
     "library": "var_list.py",
     "varRefreshCmd": "print(var_dic_list())"
    },
    "r": {
     "delete_cmd_postfix": ") ",
     "delete_cmd_prefix": "rm(",
     "library": "var_list.r",
     "varRefreshCmd": "cat(var_dic_list()) "
    }
   },
   "types_to_exclude": [
    "module",
    "function",
    "builtin_function_or_method",
    "instance",
    "_Feature"
   ],
   "window_display": false
  }
 },
 "nbformat": 4,
 "nbformat_minor": 5
}
